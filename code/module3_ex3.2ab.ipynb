{
  "cells": [
    {
      "cell_type": "markdown",
      "id": "63c14ef4-4de5-476d-ac2a-7f59ff00f230",
      "metadata": {
        "id": "63c14ef4-4de5-476d-ac2a-7f59ff00f230"
      },
      "source": [
        "# Exercise 3.2"
      ]
    },
    {
      "cell_type": "markdown",
      "id": "THcvkp0b9anN",
      "metadata": {
        "id": "THcvkp0b9anN"
      },
      "source": [
        "### **NB: This notebook was developed in Google Colab**"
      ]
    },
    {
      "cell_type": "code",
      "execution_count": 2,
      "id": "2806ff98-84f2-4ed0-b2ce-652e24e22ba1",
      "metadata": {
        "id": "2806ff98-84f2-4ed0-b2ce-652e24e22ba1"
      },
      "outputs": [],
      "source": [
        "import torch\n",
        "from PIL import Image\n",
        "from torchvision import transforms\n",
        "import matplotlib.pyplot as plt\n",
        "import pickle\n",
        "from collections import OrderedDict\n",
        "import torch.nn as nn\n",
        "import torch.optim as optim\n",
        "from torch.utils.data import Dataset, DataLoader\n",
        "import numpy as np\n",
        "import pandas as pd\n",
        "from sklearn.metrics import confusion_matrix, precision_score, recall_score, accuracy_score, ConfusionMatrixDisplay\n",
        "from tqdm import tqdm\n",
        "import cv2\n",
        "import random"
      ]
    },
    {
      "cell_type": "code",
      "execution_count": 3,
      "id": "PrtMuQVzOp5c",
      "metadata": {
        "colab": {
          "base_uri": "https://localhost:8080/"
        },
        "id": "PrtMuQVzOp5c",
        "outputId": "1959791a-390e-46d1-e89a-1bd2e1227520"
      },
      "outputs": [
        {
          "name": "stdout",
          "output_type": "stream",
          "text": [
            "Drive already mounted at /content/drive; to attempt to forcibly remount, call drive.mount(\"/content/drive\", force_remount=True).\n"
          ]
        }
      ],
      "source": [
        "from google.colab import drive\n",
        "drive.mount('/content/drive')"
      ]
    },
    {
      "cell_type": "code",
      "execution_count": 4,
      "id": "tw8z2JdAAJ5Q",
      "metadata": {
        "id": "tw8z2JdAAJ5Q"
      },
      "outputs": [],
      "source": [
        "torch.manual_seed(42) # for reproducibility\n",
        "random.seed(42)"
      ]
    },
    {
      "cell_type": "code",
      "execution_count": 5,
      "id": "02ecddfa",
      "metadata": {
        "id": "02ecddfa"
      },
      "outputs": [],
      "source": [
        "# Define the model\n",
        "case = 'a'\n",
        "num_classes = 10\n",
        "num_epochs = 500"
      ]
    },
    {
      "cell_type": "markdown",
      "id": "iwmHzkqy-A-C",
      "metadata": {
        "id": "iwmHzkqy-A-C"
      },
      "source": [
        "Changes made below include (i) removing final SoftMax because CrossEntropyLoss expects raw logits and applies log_softmax internally and (ii) using ReLU as it is generally faster to train and avoids saturation issues"
      ]
    },
    {
      "cell_type": "code",
      "execution_count": 6,
      "id": "b1212515",
      "metadata": {
        "colab": {
          "base_uri": "https://localhost:8080/"
        },
        "id": "b1212515",
        "outputId": "8c636396-1ba0-4f69-fdac-b18cebe16a4e"
      },
      "outputs": [
        {
          "data": {
            "text/plain": [
              "Sequential(\n",
              "  (0): Linear(in_features=784, out_features=64, bias=True)\n",
              "  (1): ReLU()\n",
              "  (2): Linear(in_features=64, out_features=16, bias=True)\n",
              "  (3): ReLU()\n",
              "  (4): Linear(in_features=16, out_features=10, bias=True)\n",
              ")"
            ]
          },
          "execution_count": 6,
          "metadata": {},
          "output_type": "execute_result"
        }
      ],
      "source": [
        "if case == 'a':\n",
        "    inputs, n_hidden0, n_hidden1, out = 784, 64, 16, 10\n",
        "    ckpt_pth = 'best_model_NN.pth'\n",
        "    model = nn.Sequential(\n",
        "    nn.Linear(inputs, n_hidden0, bias=True),\n",
        "    nn.ReLU(),\n",
        "    nn.Linear(n_hidden0, n_hidden1, bias=True),\n",
        "    nn.ReLU(),\n",
        "    nn.Linear(n_hidden1, out, bias=True)\n",
        ").to('cuda')\n",
        "\n",
        "elif case == 'b':\n",
        "    ckpt_pth = 'best_model_CNN.pth'\n",
        "    preprocess = transforms.Compose([\n",
        "    transforms.Resize(256),\n",
        "    transforms.CenterCrop(224),\n",
        "    transforms.ToTensor(),\n",
        "    transforms.Normalize(mean=[0.485, 0.456, 0.406], std=[0.229, 0.224, 0.225]),\n",
        "    ])\n",
        "    model = torch.hub.load('pytorch/vision:v0.10.0', 'alexnet', pretrained=True)\n",
        "    model.classifier[6] = nn.Linear(4096, num_classes)\n",
        "    model = model.to('cuda')\n",
        "else:\n",
        "    raise ValueError('Case choice is invalid')\n",
        "\n",
        "model.train()"
      ]
    },
    {
      "cell_type": "code",
      "execution_count": 7,
      "id": "74a4216e-550e-4431-8388-c33c29f8ade3",
      "metadata": {
        "id": "74a4216e-550e-4431-8388-c33c29f8ade3"
      },
      "outputs": [],
      "source": [
        "# Load the data\n",
        "with open('./drive/MyDrive/a7/0_development_data.pkl', 'rb') as f:\n",
        "    devel_imgs = pickle.load(f)\n",
        "train_imgs = devel_imgs[0][::2]\n",
        "val_imgs = devel_imgs[0][1::2]\n",
        "with open('./drive/MyDrive/a7/0_test_data.pkl', 'rb') as f:\n",
        "    test_imgs = pickle.load(f)\n",
        "test_imgs = test_imgs[0]"
      ]
    },
    {
      "cell_type": "code",
      "execution_count": 8,
      "id": "92beb835-e8f3-443a-85af-ce49582ab7d8",
      "metadata": {
        "colab": {
          "base_uri": "https://localhost:8080/"
        },
        "id": "92beb835-e8f3-443a-85af-ce49582ab7d8",
        "outputId": "109d338e-c51c-453c-ad6d-c0a578694d39"
      },
      "outputs": [
        {
          "data": {
            "text/plain": [
              "(10499, 10498, 21003)"
            ]
          },
          "execution_count": 8,
          "metadata": {},
          "output_type": "execute_result"
        }
      ],
      "source": [
        "len(train_imgs), len(val_imgs), len(test_imgs)"
      ]
    },
    {
      "cell_type": "code",
      "execution_count": 9,
      "id": "7d0cfc60-a925-42e4-9bec-251f3107a607",
      "metadata": {
        "id": "7d0cfc60-a925-42e4-9bec-251f3107a607"
      },
      "outputs": [],
      "source": [
        "# Extract the labels\n",
        "labels_train = [int(i[0].split('/')[-2]) for i in train_imgs]\n",
        "labels_val = [int(i[0].split('/')[-2]) for i in val_imgs]\n",
        "labels_test = [int(i[0].split('/')[-2]) for i in test_imgs]"
      ]
    },
    {
      "cell_type": "markdown",
      "id": "9cn1c7Gv_l6v",
      "metadata": {
        "id": "9cn1c7Gv_l6v"
      },
      "source": [
        "Changes below include making all images grayscale, masking bottom right hand corner to remove grey squares, and shuffling data BEFORE making DataLoaders since the images are all in order (all 0s followed by all 1s etc etc)"
      ]
    },
    {
      "cell_type": "code",
      "execution_count": null,
      "id": "b50f5450-95ef-4f9f-995a-47244d3adb0e",
      "metadata": {
        "id": "b50f5450-95ef-4f9f-995a-47244d3adb0e"
      },
      "outputs": [],
      "source": [
        "# Define the data loader and training objects\n",
        "class CustomDataset(Dataset):\n",
        "    def __init__(self, image_list, labels, transform=None):\n",
        "        self.image_list = image_list\n",
        "        self.labels = labels\n",
        "        self.transform = transform\n",
        "\n",
        "    def __len__(self):\n",
        "        return len(self.image_list)\n",
        "\n",
        "    def __getitem__(self, idx):\n",
        "        if case == 'a':\n",
        "            image = self.image_list[idx].astype(float)\n",
        "            image /= 255.0 # This should be at dataset level\n",
        "            image[-5:, -5:] = [0, 0, 0] # Mask 5x5 grey square in bottom-right corner\n",
        "            image = image.sum(axis=2) # make grayscale\n",
        "            image -= np.sum(np.sum(image,0),0) / (image.shape[0]*image.shape[1])\n",
        "\n",
        "        elif case == 'b':\n",
        "            img_tmp = self.image_list[idx]\n",
        "            image = preprocess(Image.fromarray(img_tmp))\n",
        "        label = self.labels[idx]\n",
        "        return image, label\n",
        "\n",
        "# Define loss function and optimizer\n",
        "criterion = nn.CrossEntropyLoss()\n",
        "if case == 'a':\n",
        "    optimizer = optim.Adam(model.parameters(), lr=0.001, betas=(0.9, 0.999), eps=1e-08, weight_decay=0, amsgrad=False)\n",
        "else:\n",
        "    optimizer = optim.SGD(model.parameters(), lr=0.001, momentum=0.9)\n",
        "\n",
        "# Create CustomDataset instance\n",
        "train_list = [i[1] for i in train_imgs]\n",
        "val_list = [i[1] for i in val_imgs]\n",
        "test_list = [i[1] for i in test_imgs]\n",
        "\n",
        "\n",
        "# Shuffle training data and labels together\n",
        "combined_train = list(zip(train_list, labels_train))\n",
        "random.shuffle(combined_train)\n",
        "train_list[:], labels_train[:] = zip(*combined_train)\n",
        "\n",
        "# Shuffle validation data and labels together\n",
        "combined_val = list(zip(val_list, labels_val))\n",
        "random.shuffle(combined_val)\n",
        "val_list[:], labels_val[:] = zip(*combined_val)\n",
        "\n",
        "\n",
        "dataset_train = CustomDataset(train_list, labels_train, transform=None)\n",
        "dataset_val = CustomDataset(val_list, labels_val, transform=None)\n",
        "dataset_test = CustomDataset(test_list, labels_test, transform=None)\n",
        "\n",
        "# Create DataLoader\n",
        "batch_size = 32\n",
        "dataloader_train = DataLoader(dataset_train, batch_size=batch_size, shuffle=True)\n",
        "dataloader_val = DataLoader(dataset_val, batch_size=batch_size, shuffle=True)\n",
        "dataloader_test = DataLoader(dataset_test, batch_size=batch_size, shuffle=False)"
      ]
    },
    {
      "cell_type": "code",
      "execution_count": 11,
      "id": "fdbbda5d-29c2-4698-8a56-e570ef1ded48",
      "metadata": {
        "colab": {
          "base_uri": "https://localhost:8080/"
        },
        "id": "fdbbda5d-29c2-4698-8a56-e570ef1ded48",
        "outputId": "5bf97e3a-3a5b-4e0a-e375-43dce3c56445",
        "scrolled": false
      },
      "outputs": [
        {
          "name": "stderr",
          "output_type": "stream",
          "text": [
            "100%|██████████| 329/329 [00:01<00:00, 213.43it/s]\n",
            "100%|██████████| 329/329 [00:00<00:00, 524.87it/s]\n"
          ]
        },
        {
          "name": "stdout",
          "output_type": "stream",
          "text": [
            "Epoch 1, Train loss: 0.9069368404005074, Val loss: 0.4268774893870832\n"
          ]
        },
        {
          "name": "stderr",
          "output_type": "stream",
          "text": [
            "100%|██████████| 329/329 [00:00<00:00, 329.45it/s]\n",
            "100%|██████████| 329/329 [00:00<00:00, 519.96it/s]\n"
          ]
        },
        {
          "name": "stdout",
          "output_type": "stream",
          "text": [
            "Epoch 2, Train loss: 0.35974550116977067, Val loss: 0.30929359660050787\n"
          ]
        },
        {
          "name": "stderr",
          "output_type": "stream",
          "text": [
            "100%|██████████| 329/329 [00:01<00:00, 325.60it/s]\n",
            "100%|██████████| 329/329 [00:00<00:00, 513.66it/s]\n"
          ]
        },
        {
          "name": "stdout",
          "output_type": "stream",
          "text": [
            "Epoch 3, Train loss: 0.2833648414937015, Val loss: 0.2875588337995542\n"
          ]
        },
        {
          "name": "stderr",
          "output_type": "stream",
          "text": [
            "100%|██████████| 329/329 [00:01<00:00, 321.99it/s]\n",
            "100%|██████████| 329/329 [00:00<00:00, 537.91it/s]\n"
          ]
        },
        {
          "name": "stdout",
          "output_type": "stream",
          "text": [
            "Epoch 4, Train loss: 0.23546804168394633, Val loss: 0.25647437845365256\n"
          ]
        },
        {
          "name": "stderr",
          "output_type": "stream",
          "text": [
            "100%|██████████| 329/329 [00:00<00:00, 332.20it/s]\n",
            "100%|██████████| 329/329 [00:00<00:00, 539.37it/s]\n"
          ]
        },
        {
          "name": "stdout",
          "output_type": "stream",
          "text": [
            "Epoch 5, Train loss: 0.19931015695691517, Val loss: 0.24342744591388296\n"
          ]
        },
        {
          "name": "stderr",
          "output_type": "stream",
          "text": [
            "100%|██████████| 329/329 [00:00<00:00, 341.95it/s]\n",
            "100%|██████████| 329/329 [00:00<00:00, 546.00it/s]\n"
          ]
        },
        {
          "name": "stdout",
          "output_type": "stream",
          "text": [
            "Epoch 6, Train loss: 0.17425662570131947, Val loss: 0.2187667410045092\n"
          ]
        },
        {
          "name": "stderr",
          "output_type": "stream",
          "text": [
            "100%|██████████| 329/329 [00:00<00:00, 332.27it/s]\n",
            "100%|██████████| 329/329 [00:00<00:00, 544.56it/s]\n"
          ]
        },
        {
          "name": "stdout",
          "output_type": "stream",
          "text": [
            "Epoch 7, Train loss: 0.15345182543829944, Val loss: 0.21249939260033376\n"
          ]
        },
        {
          "name": "stderr",
          "output_type": "stream",
          "text": [
            "100%|██████████| 329/329 [00:00<00:00, 331.88it/s]\n",
            "100%|██████████| 329/329 [00:00<00:00, 527.45it/s]\n"
          ]
        },
        {
          "name": "stdout",
          "output_type": "stream",
          "text": [
            "Epoch 8, Train loss: 0.13294289333287254, Val loss: 0.22821948290618538\n"
          ]
        },
        {
          "name": "stderr",
          "output_type": "stream",
          "text": [
            "100%|██████████| 329/329 [00:00<00:00, 334.13it/s]\n",
            "100%|██████████| 329/329 [00:00<00:00, 541.04it/s]\n"
          ]
        },
        {
          "name": "stdout",
          "output_type": "stream",
          "text": [
            "Epoch 9, Train loss: 0.11924261435453064, Val loss: 0.2104521954296253\n"
          ]
        },
        {
          "name": "stderr",
          "output_type": "stream",
          "text": [
            "100%|██████████| 329/329 [00:00<00:00, 336.92it/s]\n",
            "100%|██████████| 329/329 [00:00<00:00, 537.04it/s]\n"
          ]
        },
        {
          "name": "stdout",
          "output_type": "stream",
          "text": [
            "Epoch 10, Train loss: 0.10663232013673768, Val loss: 0.1960609665134848\n"
          ]
        },
        {
          "name": "stderr",
          "output_type": "stream",
          "text": [
            "100%|██████████| 329/329 [00:00<00:00, 333.00it/s]\n",
            "100%|██████████| 329/329 [00:00<00:00, 499.52it/s]\n"
          ]
        },
        {
          "name": "stdout",
          "output_type": "stream",
          "text": [
            "Epoch 11, Train loss: 0.09416294580829361, Val loss: 0.2026152781079563\n"
          ]
        },
        {
          "name": "stderr",
          "output_type": "stream",
          "text": [
            "100%|██████████| 329/329 [00:00<00:00, 336.13it/s]\n",
            "100%|██████████| 329/329 [00:00<00:00, 529.76it/s]\n"
          ]
        },
        {
          "name": "stdout",
          "output_type": "stream",
          "text": [
            "Epoch 12, Train loss: 0.08422806911031774, Val loss: 0.20766386585763025\n"
          ]
        },
        {
          "name": "stderr",
          "output_type": "stream",
          "text": [
            "100%|██████████| 329/329 [00:00<00:00, 336.85it/s]\n",
            "100%|██████████| 329/329 [00:00<00:00, 544.46it/s]\n"
          ]
        },
        {
          "name": "stdout",
          "output_type": "stream",
          "text": [
            "Epoch 13, Train loss: 0.07492206269297692, Val loss: 0.20363189394396128\n"
          ]
        },
        {
          "name": "stderr",
          "output_type": "stream",
          "text": [
            "100%|██████████| 329/329 [00:00<00:00, 335.66it/s]\n",
            "100%|██████████| 329/329 [00:00<00:00, 536.35it/s]\n"
          ]
        },
        {
          "name": "stdout",
          "output_type": "stream",
          "text": [
            "Epoch 14, Train loss: 0.06878620985043334, Val loss: 0.19472795919200978\n"
          ]
        },
        {
          "name": "stderr",
          "output_type": "stream",
          "text": [
            "100%|██████████| 329/329 [00:00<00:00, 336.45it/s]\n",
            "100%|██████████| 329/329 [00:00<00:00, 531.61it/s]\n"
          ]
        },
        {
          "name": "stdout",
          "output_type": "stream",
          "text": [
            "Epoch 15, Train loss: 0.05485153545223539, Val loss: 0.2025640102798306\n"
          ]
        },
        {
          "name": "stderr",
          "output_type": "stream",
          "text": [
            "100%|██████████| 329/329 [00:00<00:00, 336.85it/s]\n",
            "100%|██████████| 329/329 [00:00<00:00, 531.01it/s]\n"
          ]
        },
        {
          "name": "stdout",
          "output_type": "stream",
          "text": [
            "Epoch 16, Train loss: 0.051127704477509466, Val loss: 0.21608984788970337\n"
          ]
        },
        {
          "name": "stderr",
          "output_type": "stream",
          "text": [
            "100%|██████████| 329/329 [00:00<00:00, 333.87it/s]\n",
            "100%|██████████| 329/329 [00:00<00:00, 539.14it/s]\n"
          ]
        },
        {
          "name": "stdout",
          "output_type": "stream",
          "text": [
            "Epoch 17, Train loss: 0.04562252141817651, Val loss: 0.22341227841366784\n"
          ]
        },
        {
          "name": "stderr",
          "output_type": "stream",
          "text": [
            "100%|██████████| 329/329 [00:00<00:00, 333.06it/s]\n",
            "100%|██████████| 329/329 [00:00<00:00, 542.96it/s]\n"
          ]
        },
        {
          "name": "stdout",
          "output_type": "stream",
          "text": [
            "Epoch 18, Train loss: 0.04036355587883108, Val loss: 0.2087266400376227\n"
          ]
        },
        {
          "name": "stderr",
          "output_type": "stream",
          "text": [
            "100%|██████████| 329/329 [00:00<00:00, 330.60it/s]\n",
            "100%|██████████| 329/329 [00:00<00:00, 540.86it/s]\n"
          ]
        },
        {
          "name": "stdout",
          "output_type": "stream",
          "text": [
            "Epoch 19, Train loss: 0.03566284237130854, Val loss: 0.22606469164356535\n"
          ]
        },
        {
          "name": "stderr",
          "output_type": "stream",
          "text": [
            "100%|██████████| 329/329 [00:00<00:00, 333.88it/s]\n",
            "100%|██████████| 329/329 [00:00<00:00, 536.88it/s]\n"
          ]
        },
        {
          "name": "stdout",
          "output_type": "stream",
          "text": [
            "Epoch 20, Train loss: 0.034752466578049285, Val loss: 0.2509109049329176\n"
          ]
        },
        {
          "name": "stderr",
          "output_type": "stream",
          "text": [
            "100%|██████████| 329/329 [00:00<00:00, 336.92it/s]\n",
            "100%|██████████| 329/329 [00:00<00:00, 540.61it/s]\n"
          ]
        },
        {
          "name": "stdout",
          "output_type": "stream",
          "text": [
            "Epoch 21, Train loss: 0.025581545513873427, Val loss: 0.22762187082322397\n"
          ]
        },
        {
          "name": "stderr",
          "output_type": "stream",
          "text": [
            "100%|██████████| 329/329 [00:00<00:00, 330.34it/s]\n",
            "100%|██████████| 329/329 [00:00<00:00, 530.92it/s]\n"
          ]
        },
        {
          "name": "stdout",
          "output_type": "stream",
          "text": [
            "Epoch 22, Train loss: 0.02140793603060995, Val loss: 0.22417658827151352\n"
          ]
        },
        {
          "name": "stderr",
          "output_type": "stream",
          "text": [
            "100%|██████████| 329/329 [00:01<00:00, 326.44it/s]\n",
            "100%|██████████| 329/329 [00:00<00:00, 523.22it/s]\n"
          ]
        },
        {
          "name": "stdout",
          "output_type": "stream",
          "text": [
            "Epoch 23, Train loss: 0.022158968025120684, Val loss: 0.265847882854973\n"
          ]
        },
        {
          "name": "stderr",
          "output_type": "stream",
          "text": [
            "100%|██████████| 329/329 [00:01<00:00, 327.51it/s]\n",
            "100%|██████████| 329/329 [00:00<00:00, 524.63it/s]"
          ]
        },
        {
          "name": "stdout",
          "output_type": "stream",
          "text": [
            "-------- Early Stopping ------------\n",
            "Epoch 24, Train loss: 0.02285792212555129, Val loss: 0.24286876947832745\n"
          ]
        },
        {
          "name": "stderr",
          "output_type": "stream",
          "text": [
            "\n"
          ]
        }
      ],
      "source": [
        "# Training loop\n",
        "early_stopping_patience = 10\n",
        "\n",
        "best_val_loss = 10000.0\n",
        "for epoch in range(num_epochs):\n",
        "    running_loss, running_val_loss = 0.0, 0.0\n",
        "    model.train()\n",
        "    for inputs_, labels_ in tqdm(dataloader_train):\n",
        "\n",
        "        if case == 'a': inputs_ = torch.reshape(inputs_, (inputs_.shape[0], -1))\n",
        "        inputs_, labels_ = inputs_.to(torch.float).to('cuda'), labels_.to('cuda')\n",
        "        optimizer.zero_grad()\n",
        "        outputs = model(inputs_)\n",
        "        loss = criterion(outputs, labels_)\n",
        "        loss.backward()\n",
        "        optimizer.step()\n",
        "        running_loss += loss.item()\n",
        "\n",
        "    model.eval()\n",
        "    with torch.no_grad():\n",
        "        for inputs_val, labels_val in tqdm(dataloader_val):\n",
        "            if case == 'a': inputs_val = torch.reshape(inputs_val, (inputs_val.shape[0], -1))\n",
        "            inputs_val, labels_val = inputs_val.to(torch.float).to('cuda'), labels_val.to('cuda')\n",
        "            outputs_val = model(inputs_val)\n",
        "            val_loss = criterion(outputs_val, labels_val)\n",
        "            running_val_loss += val_loss.item()\n",
        "\n",
        "    epoch_val_loss = running_val_loss/len(dataloader_val)\n",
        "    if epoch_val_loss < best_val_loss:\n",
        "        early_stopping_counter = 0\n",
        "        best_val_loss = float(epoch_val_loss)\n",
        "        torch.save(model.state_dict(), ckpt_pth)\n",
        "    else:\n",
        "        early_stopping_counter += 1\n",
        "        if early_stopping_counter==early_stopping_patience:\n",
        "            print('-------- Early Stopping ------------')\n",
        "            print(f'Epoch {epoch+1}, Train loss: {running_loss/len(dataloader_train)}, Val loss: {running_val_loss/len(dataloader_val)}')\n",
        "            break\n",
        "\n",
        "    print(f'Epoch {epoch+1}, Train loss: {running_loss/len(dataloader_train)}, Val loss: {epoch_val_loss}')"
      ]
    },
    {
      "cell_type": "code",
      "execution_count": 12,
      "id": "5b91e72f-1667-4dbe-9b54-f9cb84542824",
      "metadata": {
        "colab": {
          "base_uri": "https://localhost:8080/"
        },
        "id": "5b91e72f-1667-4dbe-9b54-f9cb84542824",
        "outputId": "ce16bddd-60ea-4a0d-dca7-6296adbf3399"
      },
      "outputs": [
        {
          "data": {
            "text/plain": [
              "Sequential(\n",
              "  (0): Linear(in_features=784, out_features=64, bias=True)\n",
              "  (1): ReLU()\n",
              "  (2): Linear(in_features=64, out_features=16, bias=True)\n",
              "  (3): ReLU()\n",
              "  (4): Linear(in_features=16, out_features=10, bias=True)\n",
              ")"
            ]
          },
          "execution_count": 12,
          "metadata": {},
          "output_type": "execute_result"
        }
      ],
      "source": [
        "# Make predictions on the train data\n",
        "model.load_state_dict(torch.load(ckpt_pth, weights_only=True))\n",
        "model.eval()"
      ]
    },
    {
      "cell_type": "code",
      "execution_count": 13,
      "id": "23a0db36-5b2b-44f9-8210-f94641d522ba",
      "metadata": {
        "id": "23a0db36-5b2b-44f9-8210-f94641d522ba"
      },
      "outputs": [],
      "source": [
        "# Inference function\n",
        "def get_predictions(input_batch, model):\n",
        "\n",
        "    # move the input and model to GPU for speed if available\n",
        "    if torch.cuda.is_available():\n",
        "        input_batch = input_batch.to('cuda')\n",
        "        model.to('cuda')\n",
        "\n",
        "    with torch.no_grad():\n",
        "        output = model(input_batch)\n",
        "\n",
        "    probabilities = torch.nn.functional.softmax(output, dim=1)\n",
        "    return probabilities"
      ]
    },
    {
      "cell_type": "code",
      "execution_count": 14,
      "id": "3b11e70b-44ba-485b-a5a6-f8dd5c6009cd",
      "metadata": {
        "colab": {
          "base_uri": "https://localhost:8080/"
        },
        "id": "3b11e70b-44ba-485b-a5a6-f8dd5c6009cd",
        "outputId": "f4a7625b-6949-4e5d-8984-f079698ba3da"
      },
      "outputs": [
        {
          "name": "stderr",
          "output_type": "stream",
          "text": [
            "100%|██████████| 657/657 [00:01<00:00, 497.91it/s]\n"
          ]
        }
      ],
      "source": [
        "# Run inference\n",
        "preds_list = []\n",
        "batch_size = 64\n",
        "with torch.no_grad():\n",
        "    for inputs_test, _ in tqdm(dataloader_test):\n",
        "        if case == 'a': inputs_test = torch.reshape(inputs_test, (inputs_test.shape[0], -1))\n",
        "        inputs_test = inputs_test.to(torch.float).to('cuda')\n",
        "        preds_list.append(get_predictions(inputs_test, model).cpu().numpy())\n",
        "final_preds = np.argmax(np.reshape(np.vstack(preds_list), (-1,10)),1)"
      ]
    },
    {
      "cell_type": "markdown",
      "id": "_Pn8wy2kNxVD",
      "metadata": {
        "id": "_Pn8wy2kNxVD"
      },
      "source": [
        "Changes made to just display confusion matrix for further performance visualisation"
      ]
    },
    {
      "cell_type": "code",
      "execution_count": 15,
      "id": "9e192ffc-2e00-4a8e-83c2-cb8727bf7d8f",
      "metadata": {
        "id": "9e192ffc-2e00-4a8e-83c2-cb8727bf7d8f"
      },
      "outputs": [],
      "source": [
        "# Generate all interesting metrics\n",
        "def multiclass_metrics(y_true, y_pred, labels):\n",
        "    \"\"\"\n",
        "    Compute per-class accuracy, sensitivity (recall), specificity, and precision.\n",
        "\n",
        "    y_true, y_pred : array-like of shape (n_samples,)\n",
        "    labels         : list of class labels, e.g. [0,1,...,9]\n",
        "    \"\"\"\n",
        "    # Compute the full confusion matrix once\n",
        "    cm = confusion_matrix(y_true, y_pred, labels=labels)\n",
        "    # cm[i, j] is count of true class i predicted as class j\n",
        "\n",
        "    # Prepare containers\n",
        "    metrics = {\n",
        "        \"class\": [],\n",
        "        \"accuracy\": [],\n",
        "        \"sensitivity (recall)\": [],\n",
        "        \"specificity\": [],\n",
        "        \"precision\": []\n",
        "    }\n",
        "\n",
        "    # Total samples\n",
        "    total = cm.sum()\n",
        "\n",
        "    for idx, cls in enumerate(labels):\n",
        "        TP = cm[idx, idx]\n",
        "        FN = cm[idx, :].sum() - TP\n",
        "        FP = cm[:, idx].sum() - TP\n",
        "        TN = total - TP - FP - FN\n",
        "\n",
        "        # Per-class metrics\n",
        "        acc = (TP + TN) / total\n",
        "        sens = TP / (TP + FN) if (TP + FN) > 0 else 0.0\n",
        "        spec = TN / (TN + FP) if (TN + FP) > 0 else 0.0\n",
        "        prec = TP / (TP + FP) if (TP + FP) > 0 else 0.0\n",
        "\n",
        "        metrics[\"class\"].append(cls)\n",
        "        metrics[\"accuracy\"].append(acc)\n",
        "        metrics[\"sensitivity (recall)\"].append(sens)\n",
        "        metrics[\"specificity\"].append(spec)\n",
        "        metrics[\"precision\"].append(prec)\n",
        "\n",
        "    ConfusionMatrixDisplay(cm).plot() # display confusion matrix\n",
        "    return pd.DataFrame(metrics)\n"
      ]
    },
    {
      "cell_type": "code",
      "execution_count": 16,
      "id": "2ef7ecc0-0e98-47cd-9276-cc4e865c7c78",
      "metadata": {
        "colab": {
          "base_uri": "https://localhost:8080/",
          "height": 826
        },
        "id": "2ef7ecc0-0e98-47cd-9276-cc4e865c7c78",
        "outputId": "e299887c-6af7-4e4f-b7cb-a85e7f75f5e1"
      },
      "outputs": [
        {
          "data": {
            "application/vnd.google.colaboratory.intrinsic+json": {
              "summary": "{\n  \"name\": \"report_df\",\n  \"rows\": 10,\n  \"fields\": [\n    {\n      \"column\": \"class\",\n      \"properties\": {\n        \"dtype\": \"number\",\n        \"std\": 3,\n        \"min\": 0,\n        \"max\": 9,\n        \"num_unique_values\": 10,\n        \"samples\": [\n          8,\n          1,\n          5\n        ],\n        \"semantic_type\": \"\",\n        \"description\": \"\"\n      }\n    },\n    {\n      \"column\": \"accuracy\",\n      \"properties\": {\n        \"dtype\": \"number\",\n        \"std\": 0.0032058283668227727,\n        \"min\": 0.9857163262391087,\n        \"max\": 0.9935723468075989,\n        \"num_unique_values\": 8,\n        \"samples\": [\n          0.9935723468075989,\n          0.9931914488406418,\n          0.9934771223158596\n        ],\n        \"semantic_type\": \"\",\n        \"description\": \"\"\n      }\n    },\n    {\n      \"column\": \"sensitivity (recall)\",\n      \"properties\": {\n        \"dtype\": \"number\",\n        \"std\": 0.01898401462021048,\n        \"min\": 0.9240687679083095,\n        \"max\": 0.973378509196515,\n        \"num_unique_values\": 10,\n        \"samples\": [\n          0.9399606299212598,\n          0.9730999146029035,\n          0.928345626975764\n        ],\n        \"semantic_type\": \"\",\n        \"description\": \"\"\n      }\n    },\n    {\n      \"column\": \"specificity\",\n      \"properties\": {\n        \"dtype\": \"number\",\n        \"std\": 0.002104634753569217,\n        \"min\": 0.9908808180907701,\n        \"max\": 0.9975176930389775,\n        \"num_unique_values\": 10,\n        \"samples\": [\n          0.9908808180907701,\n          0.9961416858689245,\n          0.9925673907354096\n        ],\n        \"semantic_type\": \"\",\n        \"description\": \"\"\n      }\n    },\n    {\n      \"column\": \"precision\",\n      \"properties\": {\n        \"dtype\": \"number\",\n        \"std\": 0.0199307514941882,\n        \"min\": 0.9169467114738358,\n        \"max\": 0.9767326732673267,\n        \"num_unique_values\": 10,\n        \"samples\": [\n          0.9169467114738358,\n          0.9693747341556784,\n          0.9254201680672269\n        ],\n        \"semantic_type\": \"\",\n        \"description\": \"\"\n      }\n    }\n  ]\n}",
              "type": "dataframe",
              "variable_name": "report_df"
            },
            "text/html": [
              "\n",
              "  <div id=\"df-826c71a9-1850-43be-b4c7-c650fa3dcc80\" class=\"colab-df-container\">\n",
              "    <div>\n",
              "<style scoped>\n",
              "    .dataframe tbody tr th:only-of-type {\n",
              "        vertical-align: middle;\n",
              "    }\n",
              "\n",
              "    .dataframe tbody tr th {\n",
              "        vertical-align: top;\n",
              "    }\n",
              "\n",
              "    .dataframe thead th {\n",
              "        text-align: right;\n",
              "    }\n",
              "</style>\n",
              "<table border=\"1\" class=\"dataframe\">\n",
              "  <thead>\n",
              "    <tr style=\"text-align: right;\">\n",
              "      <th></th>\n",
              "      <th>accuracy</th>\n",
              "      <th>sensitivity (recall)</th>\n",
              "      <th>specificity</th>\n",
              "      <th>precision</th>\n",
              "    </tr>\n",
              "    <tr>\n",
              "      <th>class</th>\n",
              "      <th></th>\n",
              "      <th></th>\n",
              "      <th></th>\n",
              "      <th></th>\n",
              "    </tr>\n",
              "  </thead>\n",
              "  <tbody>\n",
              "    <tr>\n",
              "      <th>0</th>\n",
              "      <td>0.993477</td>\n",
              "      <td>0.973379</td>\n",
              "      <td>0.995670</td>\n",
              "      <td>0.960822</td>\n",
              "    </tr>\n",
              "    <tr>\n",
              "      <th>1</th>\n",
              "      <td>0.993572</td>\n",
              "      <td>0.973100</td>\n",
              "      <td>0.996142</td>\n",
              "      <td>0.969375</td>\n",
              "    </tr>\n",
              "    <tr>\n",
              "      <th>2</th>\n",
              "      <td>0.989287</td>\n",
              "      <td>0.929631</td>\n",
              "      <td>0.995876</td>\n",
              "      <td>0.961386</td>\n",
              "    </tr>\n",
              "    <tr>\n",
              "      <th>3</th>\n",
              "      <td>0.985954</td>\n",
              "      <td>0.925551</td>\n",
              "      <td>0.992936</td>\n",
              "      <td>0.938053</td>\n",
              "    </tr>\n",
              "    <tr>\n",
              "      <th>4</th>\n",
              "      <td>0.989287</td>\n",
              "      <td>0.954322</td>\n",
              "      <td>0.993041</td>\n",
              "      <td>0.936386</td>\n",
              "    </tr>\n",
              "    <tr>\n",
              "      <th>5</th>\n",
              "      <td>0.986764</td>\n",
              "      <td>0.928346</td>\n",
              "      <td>0.992567</td>\n",
              "      <td>0.925420</td>\n",
              "    </tr>\n",
              "    <tr>\n",
              "      <th>6</th>\n",
              "      <td>0.993191</td>\n",
              "      <td>0.953601</td>\n",
              "      <td>0.997518</td>\n",
              "      <td>0.976733</td>\n",
              "    </tr>\n",
              "    <tr>\n",
              "      <th>7</th>\n",
              "      <td>0.989382</td>\n",
              "      <td>0.956838</td>\n",
              "      <td>0.993192</td>\n",
              "      <td>0.942704</td>\n",
              "    </tr>\n",
              "    <tr>\n",
              "      <th>8</th>\n",
              "      <td>0.985954</td>\n",
              "      <td>0.939961</td>\n",
              "      <td>0.990881</td>\n",
              "      <td>0.916947</td>\n",
              "    </tr>\n",
              "    <tr>\n",
              "      <th>9</th>\n",
              "      <td>0.985716</td>\n",
              "      <td>0.924069</td>\n",
              "      <td>0.992543</td>\n",
              "      <td>0.932081</td>\n",
              "    </tr>\n",
              "  </tbody>\n",
              "</table>\n",
              "</div>\n",
              "    <div class=\"colab-df-buttons\">\n",
              "\n",
              "  <div class=\"colab-df-container\">\n",
              "    <button class=\"colab-df-convert\" onclick=\"convertToInteractive('df-826c71a9-1850-43be-b4c7-c650fa3dcc80')\"\n",
              "            title=\"Convert this dataframe to an interactive table.\"\n",
              "            style=\"display:none;\">\n",
              "\n",
              "  <svg xmlns=\"http://www.w3.org/2000/svg\" height=\"24px\" viewBox=\"0 -960 960 960\">\n",
              "    <path d=\"M120-120v-720h720v720H120Zm60-500h600v-160H180v160Zm220 220h160v-160H400v160Zm0 220h160v-160H400v160ZM180-400h160v-160H180v160Zm440 0h160v-160H620v160ZM180-180h160v-160H180v160Zm440 0h160v-160H620v160Z\"/>\n",
              "  </svg>\n",
              "    </button>\n",
              "\n",
              "  <style>\n",
              "    .colab-df-container {\n",
              "      display:flex;\n",
              "      gap: 12px;\n",
              "    }\n",
              "\n",
              "    .colab-df-convert {\n",
              "      background-color: #E8F0FE;\n",
              "      border: none;\n",
              "      border-radius: 50%;\n",
              "      cursor: pointer;\n",
              "      display: none;\n",
              "      fill: #1967D2;\n",
              "      height: 32px;\n",
              "      padding: 0 0 0 0;\n",
              "      width: 32px;\n",
              "    }\n",
              "\n",
              "    .colab-df-convert:hover {\n",
              "      background-color: #E2EBFA;\n",
              "      box-shadow: 0px 1px 2px rgba(60, 64, 67, 0.3), 0px 1px 3px 1px rgba(60, 64, 67, 0.15);\n",
              "      fill: #174EA6;\n",
              "    }\n",
              "\n",
              "    .colab-df-buttons div {\n",
              "      margin-bottom: 4px;\n",
              "    }\n",
              "\n",
              "    [theme=dark] .colab-df-convert {\n",
              "      background-color: #3B4455;\n",
              "      fill: #D2E3FC;\n",
              "    }\n",
              "\n",
              "    [theme=dark] .colab-df-convert:hover {\n",
              "      background-color: #434B5C;\n",
              "      box-shadow: 0px 1px 3px 1px rgba(0, 0, 0, 0.15);\n",
              "      filter: drop-shadow(0px 1px 2px rgba(0, 0, 0, 0.3));\n",
              "      fill: #FFFFFF;\n",
              "    }\n",
              "  </style>\n",
              "\n",
              "    <script>\n",
              "      const buttonEl =\n",
              "        document.querySelector('#df-826c71a9-1850-43be-b4c7-c650fa3dcc80 button.colab-df-convert');\n",
              "      buttonEl.style.display =\n",
              "        google.colab.kernel.accessAllowed ? 'block' : 'none';\n",
              "\n",
              "      async function convertToInteractive(key) {\n",
              "        const element = document.querySelector('#df-826c71a9-1850-43be-b4c7-c650fa3dcc80');\n",
              "        const dataTable =\n",
              "          await google.colab.kernel.invokeFunction('convertToInteractive',\n",
              "                                                    [key], {});\n",
              "        if (!dataTable) return;\n",
              "\n",
              "        const docLinkHtml = 'Like what you see? Visit the ' +\n",
              "          '<a target=\"_blank\" href=https://colab.research.google.com/notebooks/data_table.ipynb>data table notebook</a>'\n",
              "          + ' to learn more about interactive tables.';\n",
              "        element.innerHTML = '';\n",
              "        dataTable['output_type'] = 'display_data';\n",
              "        await google.colab.output.renderOutput(dataTable, element);\n",
              "        const docLink = document.createElement('div');\n",
              "        docLink.innerHTML = docLinkHtml;\n",
              "        element.appendChild(docLink);\n",
              "      }\n",
              "    </script>\n",
              "  </div>\n",
              "\n",
              "\n",
              "    <div id=\"df-b5bd4bfb-e8a1-4b30-912c-b7164e57a61d\">\n",
              "      <button class=\"colab-df-quickchart\" onclick=\"quickchart('df-b5bd4bfb-e8a1-4b30-912c-b7164e57a61d')\"\n",
              "                title=\"Suggest charts\"\n",
              "                style=\"display:none;\">\n",
              "\n",
              "<svg xmlns=\"http://www.w3.org/2000/svg\" height=\"24px\"viewBox=\"0 0 24 24\"\n",
              "     width=\"24px\">\n",
              "    <g>\n",
              "        <path d=\"M19 3H5c-1.1 0-2 .9-2 2v14c0 1.1.9 2 2 2h14c1.1 0 2-.9 2-2V5c0-1.1-.9-2-2-2zM9 17H7v-7h2v7zm4 0h-2V7h2v10zm4 0h-2v-4h2v4z\"/>\n",
              "    </g>\n",
              "</svg>\n",
              "      </button>\n",
              "\n",
              "<style>\n",
              "  .colab-df-quickchart {\n",
              "      --bg-color: #E8F0FE;\n",
              "      --fill-color: #1967D2;\n",
              "      --hover-bg-color: #E2EBFA;\n",
              "      --hover-fill-color: #174EA6;\n",
              "      --disabled-fill-color: #AAA;\n",
              "      --disabled-bg-color: #DDD;\n",
              "  }\n",
              "\n",
              "  [theme=dark] .colab-df-quickchart {\n",
              "      --bg-color: #3B4455;\n",
              "      --fill-color: #D2E3FC;\n",
              "      --hover-bg-color: #434B5C;\n",
              "      --hover-fill-color: #FFFFFF;\n",
              "      --disabled-bg-color: #3B4455;\n",
              "      --disabled-fill-color: #666;\n",
              "  }\n",
              "\n",
              "  .colab-df-quickchart {\n",
              "    background-color: var(--bg-color);\n",
              "    border: none;\n",
              "    border-radius: 50%;\n",
              "    cursor: pointer;\n",
              "    display: none;\n",
              "    fill: var(--fill-color);\n",
              "    height: 32px;\n",
              "    padding: 0;\n",
              "    width: 32px;\n",
              "  }\n",
              "\n",
              "  .colab-df-quickchart:hover {\n",
              "    background-color: var(--hover-bg-color);\n",
              "    box-shadow: 0 1px 2px rgba(60, 64, 67, 0.3), 0 1px 3px 1px rgba(60, 64, 67, 0.15);\n",
              "    fill: var(--button-hover-fill-color);\n",
              "  }\n",
              "\n",
              "  .colab-df-quickchart-complete:disabled,\n",
              "  .colab-df-quickchart-complete:disabled:hover {\n",
              "    background-color: var(--disabled-bg-color);\n",
              "    fill: var(--disabled-fill-color);\n",
              "    box-shadow: none;\n",
              "  }\n",
              "\n",
              "  .colab-df-spinner {\n",
              "    border: 2px solid var(--fill-color);\n",
              "    border-color: transparent;\n",
              "    border-bottom-color: var(--fill-color);\n",
              "    animation:\n",
              "      spin 1s steps(1) infinite;\n",
              "  }\n",
              "\n",
              "  @keyframes spin {\n",
              "    0% {\n",
              "      border-color: transparent;\n",
              "      border-bottom-color: var(--fill-color);\n",
              "      border-left-color: var(--fill-color);\n",
              "    }\n",
              "    20% {\n",
              "      border-color: transparent;\n",
              "      border-left-color: var(--fill-color);\n",
              "      border-top-color: var(--fill-color);\n",
              "    }\n",
              "    30% {\n",
              "      border-color: transparent;\n",
              "      border-left-color: var(--fill-color);\n",
              "      border-top-color: var(--fill-color);\n",
              "      border-right-color: var(--fill-color);\n",
              "    }\n",
              "    40% {\n",
              "      border-color: transparent;\n",
              "      border-right-color: var(--fill-color);\n",
              "      border-top-color: var(--fill-color);\n",
              "    }\n",
              "    60% {\n",
              "      border-color: transparent;\n",
              "      border-right-color: var(--fill-color);\n",
              "    }\n",
              "    80% {\n",
              "      border-color: transparent;\n",
              "      border-right-color: var(--fill-color);\n",
              "      border-bottom-color: var(--fill-color);\n",
              "    }\n",
              "    90% {\n",
              "      border-color: transparent;\n",
              "      border-bottom-color: var(--fill-color);\n",
              "    }\n",
              "  }\n",
              "</style>\n",
              "\n",
              "      <script>\n",
              "        async function quickchart(key) {\n",
              "          const quickchartButtonEl =\n",
              "            document.querySelector('#' + key + ' button');\n",
              "          quickchartButtonEl.disabled = true;  // To prevent multiple clicks.\n",
              "          quickchartButtonEl.classList.add('colab-df-spinner');\n",
              "          try {\n",
              "            const charts = await google.colab.kernel.invokeFunction(\n",
              "                'suggestCharts', [key], {});\n",
              "          } catch (error) {\n",
              "            console.error('Error during call to suggestCharts:', error);\n",
              "          }\n",
              "          quickchartButtonEl.classList.remove('colab-df-spinner');\n",
              "          quickchartButtonEl.classList.add('colab-df-quickchart-complete');\n",
              "        }\n",
              "        (() => {\n",
              "          let quickchartButtonEl =\n",
              "            document.querySelector('#df-b5bd4bfb-e8a1-4b30-912c-b7164e57a61d button');\n",
              "          quickchartButtonEl.style.display =\n",
              "            google.colab.kernel.accessAllowed ? 'block' : 'none';\n",
              "        })();\n",
              "      </script>\n",
              "    </div>\n",
              "\n",
              "  <div id=\"id_b29086e9-7939-45b9-95a3-3294c7ff2cd5\">\n",
              "    <style>\n",
              "      .colab-df-generate {\n",
              "        background-color: #E8F0FE;\n",
              "        border: none;\n",
              "        border-radius: 50%;\n",
              "        cursor: pointer;\n",
              "        display: none;\n",
              "        fill: #1967D2;\n",
              "        height: 32px;\n",
              "        padding: 0 0 0 0;\n",
              "        width: 32px;\n",
              "      }\n",
              "\n",
              "      .colab-df-generate:hover {\n",
              "        background-color: #E2EBFA;\n",
              "        box-shadow: 0px 1px 2px rgba(60, 64, 67, 0.3), 0px 1px 3px 1px rgba(60, 64, 67, 0.15);\n",
              "        fill: #174EA6;\n",
              "      }\n",
              "\n",
              "      [theme=dark] .colab-df-generate {\n",
              "        background-color: #3B4455;\n",
              "        fill: #D2E3FC;\n",
              "      }\n",
              "\n",
              "      [theme=dark] .colab-df-generate:hover {\n",
              "        background-color: #434B5C;\n",
              "        box-shadow: 0px 1px 3px 1px rgba(0, 0, 0, 0.15);\n",
              "        filter: drop-shadow(0px 1px 2px rgba(0, 0, 0, 0.3));\n",
              "        fill: #FFFFFF;\n",
              "      }\n",
              "    </style>\n",
              "    <button class=\"colab-df-generate\" onclick=\"generateWithVariable('report_df')\"\n",
              "            title=\"Generate code using this dataframe.\"\n",
              "            style=\"display:none;\">\n",
              "\n",
              "  <svg xmlns=\"http://www.w3.org/2000/svg\" height=\"24px\"viewBox=\"0 0 24 24\"\n",
              "       width=\"24px\">\n",
              "    <path d=\"M7,19H8.4L18.45,9,17,7.55,7,17.6ZM5,21V16.75L18.45,3.32a2,2,0,0,1,2.83,0l1.4,1.43a1.91,1.91,0,0,1,.58,1.4,1.91,1.91,0,0,1-.58,1.4L9.25,21ZM18.45,9,17,7.55Zm-12,3A5.31,5.31,0,0,0,4.9,8.1,5.31,5.31,0,0,0,1,6.5,5.31,5.31,0,0,0,4.9,4.9,5.31,5.31,0,0,0,6.5,1,5.31,5.31,0,0,0,8.1,4.9,5.31,5.31,0,0,0,12,6.5,5.46,5.46,0,0,0,6.5,12Z\"/>\n",
              "  </svg>\n",
              "    </button>\n",
              "    <script>\n",
              "      (() => {\n",
              "      const buttonEl =\n",
              "        document.querySelector('#id_b29086e9-7939-45b9-95a3-3294c7ff2cd5 button.colab-df-generate');\n",
              "      buttonEl.style.display =\n",
              "        google.colab.kernel.accessAllowed ? 'block' : 'none';\n",
              "\n",
              "      buttonEl.onclick = () => {\n",
              "        google.colab.notebook.generateWithVariable('report_df');\n",
              "      }\n",
              "      })();\n",
              "    </script>\n",
              "  </div>\n",
              "\n",
              "    </div>\n",
              "  </div>\n"
            ],
            "text/plain": [
              "       accuracy  sensitivity (recall)  specificity  precision\n",
              "class                                                        \n",
              "0      0.993477              0.973379     0.995670   0.960822\n",
              "1      0.993572              0.973100     0.996142   0.969375\n",
              "2      0.989287              0.929631     0.995876   0.961386\n",
              "3      0.985954              0.925551     0.992936   0.938053\n",
              "4      0.989287              0.954322     0.993041   0.936386\n",
              "5      0.986764              0.928346     0.992567   0.925420\n",
              "6      0.993191              0.953601     0.997518   0.976733\n",
              "7      0.989382              0.956838     0.993192   0.942704\n",
              "8      0.985954              0.939961     0.990881   0.916947\n",
              "9      0.985716              0.924069     0.992543   0.932081"
            ]
          },
          "execution_count": 16,
          "metadata": {},
          "output_type": "execute_result"
        },
        {
          "data": {
            "image/png": "[encoded data removed]",
            "text/plain": [
              "<Figure size 640x480 with 2 Axes>"
            ]
          },
          "metadata": {},
          "output_type": "display_data"
        }
      ],
      "source": [
        "# Report the performance\n",
        "report_df = multiclass_metrics(labels_test, final_preds, np.arange(10).tolist()).set_index('class')\n",
        "report_df"
      ]
    }
  ],
  "metadata": {
    "accelerator": "GPU",
    "colab": {
      "gpuType": "T4",
      "machine_shape": "hm",
      "provenance": []
    },
    "kernelspec": {
      "display_name": "vetct_env",
      "language": "python",
      "name": "vetct_env"
    },
    "language_info": {
      "codemirror_mode": {
        "name": "ipython",
        "version": 3
      },
      "file_extension": ".py",
      "mimetype": "text/x-python",
      "name": "python",
      "nbconvert_exporter": "python",
      "pygments_lexer": "ipython3",
      "version": "3.10.4"
    }
  },
  "nbformat": 4,
  "nbformat_minor": 5
}
