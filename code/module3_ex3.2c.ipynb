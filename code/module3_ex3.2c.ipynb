{
  "cells": [
    {
      "cell_type": "markdown",
      "id": "63c14ef4-4de5-476d-ac2a-7f59ff00f230",
      "metadata": {
        "id": "63c14ef4-4de5-476d-ac2a-7f59ff00f230"
      },
      "source": [
        "# Exercise 3.2"
      ]
    },
    {
      "cell_type": "markdown",
      "source": [
        "### **NB: This notebook was developed in Google Colab**"
      ],
      "metadata": {
        "id": "X1lcAumwDj0K"
      },
      "id": "X1lcAumwDj0K"
    },
    {
      "cell_type": "code",
      "execution_count": 1,
      "id": "2806ff98-84f2-4ed0-b2ce-652e24e22ba1",
      "metadata": {
        "id": "2806ff98-84f2-4ed0-b2ce-652e24e22ba1"
      },
      "outputs": [],
      "source": [
        "import torch\n",
        "from PIL import Image\n",
        "from torchvision import transforms\n",
        "import matplotlib.pyplot as plt\n",
        "import pickle\n",
        "from collections import OrderedDict\n",
        "import torch.nn as nn\n",
        "import torch.optim as optim\n",
        "from torch.utils.data import Dataset, DataLoader\n",
        "import numpy as np\n",
        "import pandas as pd\n",
        "from sklearn.metrics import confusion_matrix, precision_score, recall_score, accuracy_score, ConfusionMatrixDisplay\n",
        "from tqdm import tqdm\n",
        "import random"
      ]
    },
    {
      "cell_type": "code",
      "source": [
        "torch.manual_seed(42) # for reproducibility\n",
        "random.seed(42)"
      ],
      "metadata": {
        "id": "Sy6rU-MnDqe4"
      },
      "id": "Sy6rU-MnDqe4",
      "execution_count": 2,
      "outputs": []
    },
    {
      "cell_type": "code",
      "execution_count": 3,
      "id": "02ecddfa",
      "metadata": {
        "id": "02ecddfa"
      },
      "outputs": [],
      "source": [
        "# Define the model\n",
        "case = 'b'\n",
        "num_classes = 10\n",
        "num_epochs = 500"
      ]
    },
    {
      "cell_type": "code",
      "execution_count": 4,
      "id": "b1212515",
      "metadata": {
        "colab": {
          "base_uri": "https://localhost:8080/"
        },
        "id": "b1212515",
        "outputId": "3927c27f-eda5-4f90-e048-f11972533749"
      },
      "outputs": [
        {
          "output_type": "stream",
          "name": "stderr",
          "text": [
            "Using cache found in /root/.cache/torch/hub/pytorch_vision_v0.10.0\n",
            "/usr/local/lib/python3.11/dist-packages/torchvision/models/_utils.py:208: UserWarning: The parameter 'pretrained' is deprecated since 0.13 and may be removed in the future, please use 'weights' instead.\n",
            "  warnings.warn(\n",
            "/usr/local/lib/python3.11/dist-packages/torchvision/models/_utils.py:223: UserWarning: Arguments other than a weight enum or `None` for 'weights' are deprecated since 0.13 and may be removed in the future. The current behavior is equivalent to passing `weights=AlexNet_Weights.IMAGENET1K_V1`. You can also use `weights=AlexNet_Weights.DEFAULT` to get the most up-to-date weights.\n",
            "  warnings.warn(msg)\n"
          ]
        },
        {
          "output_type": "execute_result",
          "data": {
            "text/plain": [
              "AlexNet(\n",
              "  (features): Sequential(\n",
              "    (0): Conv2d(3, 64, kernel_size=(11, 11), stride=(4, 4), padding=(2, 2))\n",
              "    (1): ReLU(inplace=True)\n",
              "    (2): MaxPool2d(kernel_size=3, stride=2, padding=0, dilation=1, ceil_mode=False)\n",
              "    (3): Conv2d(64, 192, kernel_size=(5, 5), stride=(1, 1), padding=(2, 2))\n",
              "    (4): ReLU(inplace=True)\n",
              "    (5): MaxPool2d(kernel_size=3, stride=2, padding=0, dilation=1, ceil_mode=False)\n",
              "    (6): Conv2d(192, 384, kernel_size=(3, 3), stride=(1, 1), padding=(1, 1))\n",
              "    (7): ReLU(inplace=True)\n",
              "    (8): Conv2d(384, 256, kernel_size=(3, 3), stride=(1, 1), padding=(1, 1))\n",
              "    (9): ReLU(inplace=True)\n",
              "    (10): Conv2d(256, 256, kernel_size=(3, 3), stride=(1, 1), padding=(1, 1))\n",
              "    (11): ReLU(inplace=True)\n",
              "    (12): MaxPool2d(kernel_size=3, stride=2, padding=0, dilation=1, ceil_mode=False)\n",
              "  )\n",
              "  (avgpool): AdaptiveAvgPool2d(output_size=(6, 6))\n",
              "  (classifier): Sequential(\n",
              "    (0): Dropout(p=0.5, inplace=False)\n",
              "    (1): Linear(in_features=9216, out_features=4096, bias=True)\n",
              "    (2): ReLU(inplace=True)\n",
              "    (3): Dropout(p=0.5, inplace=False)\n",
              "    (4): Linear(in_features=4096, out_features=4096, bias=True)\n",
              "    (5): ReLU(inplace=True)\n",
              "    (6): Linear(in_features=4096, out_features=10, bias=True)\n",
              "  )\n",
              ")"
            ]
          },
          "metadata": {},
          "execution_count": 4
        }
      ],
      "source": [
        "if case == 'a':\n",
        "    inputs, n_hidden0, n_hidden1, out = 784*3, 64, 16, 10\n",
        "    ckpt_pth = './drive/MyDrive/a7/best_model_NN.pth'\n",
        "    model = nn.Sequential(\n",
        "    nn.Linear(inputs, n_hidden0, bias=True),\n",
        "    nn.Tanh(),\n",
        "    nn.Linear(n_hidden0, n_hidden1, bias=True),\n",
        "    nn.Tanh(),\n",
        "    nn.Linear(n_hidden1, out, bias=True),\n",
        "    nn.Softmax()\n",
        "    ).to('cuda')\n",
        "elif case == 'b':\n",
        "    ckpt_pth = './drive/MyDrive/a7/best_model_CNN.pth'\n",
        "    preprocess = transforms.Compose([\n",
        "    transforms.Resize(256),\n",
        "    transforms.CenterCrop(224),\n",
        "    transforms.ToTensor(),  # Produces shape [1, H, W] for grayscale\n",
        "    transforms.Lambda(lambda x: x.expand(3, -1, -1)),  # Convert to 3-channel grayscale\n",
        "    transforms.Normalize(mean=[0.485, 0.456, 0.406],   # ImageNet mean\n",
        "                         std=[0.229, 0.224, 0.225])     # ImageNet std\n",
        "])\n",
        "\n",
        "    model = torch.hub.load('pytorch/vision:v0.10.0', 'alexnet', pretrained=True)\n",
        "    model.classifier[6] = nn.Linear(4096, num_classes)\n",
        "    model = model.to('cuda')\n",
        "else:\n",
        "    raise ValueError('Case choice is invalid')\n",
        "\n",
        "model.train()"
      ]
    },
    {
      "cell_type": "code",
      "execution_count": 5,
      "id": "74a4216e-550e-4431-8388-c33c29f8ade3",
      "metadata": {
        "id": "74a4216e-550e-4431-8388-c33c29f8ade3"
      },
      "outputs": [],
      "source": [
        "# Load the data\n",
        "with open('./drive/MyDrive/a7/0_development_data.pkl', 'rb') as f:\n",
        "    devel_imgs = pickle.load(f)\n",
        "train_imgs = devel_imgs[0][::2]\n",
        "val_imgs = devel_imgs[0][1::2]\n",
        "with open('./drive/MyDrive/a7/0_test_data.pkl', 'rb') as f:\n",
        "    test_imgs = pickle.load(f)\n",
        "test_imgs = test_imgs[0]"
      ]
    },
    {
      "cell_type": "code",
      "execution_count": 6,
      "id": "92beb835-e8f3-443a-85af-ce49582ab7d8",
      "metadata": {
        "colab": {
          "base_uri": "https://localhost:8080/"
        },
        "id": "92beb835-e8f3-443a-85af-ce49582ab7d8",
        "outputId": "64d91692-19df-4072-b8a1-fcdd0f3bf355"
      },
      "outputs": [
        {
          "output_type": "execute_result",
          "data": {
            "text/plain": [
              "(10499, 10498, 21003)"
            ]
          },
          "metadata": {},
          "execution_count": 6
        }
      ],
      "source": [
        "len(train_imgs), len(val_imgs), len(test_imgs)"
      ]
    },
    {
      "cell_type": "code",
      "execution_count": 7,
      "id": "7d0cfc60-a925-42e4-9bec-251f3107a607",
      "metadata": {
        "id": "7d0cfc60-a925-42e4-9bec-251f3107a607"
      },
      "outputs": [],
      "source": [
        "# Extract the labels\n",
        "labels_train = [int(i[0].split('/')[-2]) for i in train_imgs]\n",
        "labels_val = [int(i[0].split('/')[-2]) for i in val_imgs]\n",
        "labels_test = [int(i[0].split('/')[-2]) for i in test_imgs]"
      ]
    },
    {
      "cell_type": "markdown",
      "source": [
        "Changes below include making all images grayscale, masking bottom right hand corner to remove grey squares, and shuffling data BEFORE making DataLoaders since the images are all in order (all 0s followed by all 1s etc etc)"
      ],
      "metadata": {
        "id": "LnJCbVmlFXc8"
      },
      "id": "LnJCbVmlFXc8"
    },
    {
      "cell_type": "code",
      "execution_count": 8,
      "id": "b50f5450-95ef-4f9f-995a-47244d3adb0e",
      "metadata": {
        "id": "b50f5450-95ef-4f9f-995a-47244d3adb0e"
      },
      "outputs": [],
      "source": [
        "# Define the data loader and training objects\n",
        "class CustomDataset(Dataset):\n",
        "    def __init__(self, image_list, labels, transform=None):\n",
        "        self.image_list = image_list\n",
        "        self.labels = labels\n",
        "        self.transform = transform\n",
        "\n",
        "    def __len__(self):\n",
        "        return len(self.image_list)\n",
        "\n",
        "    def __getitem__(self, idx):\n",
        "        if case == 'a':\n",
        "            image = self.image_list[idx].astype(float)\n",
        "            image /= 255.0 # This should be at dataset level\n",
        "            image -= np.sum(np.sum(image,0),0) / (image.shape[0]*image.shape[1])\n",
        "        elif case == 'b':\n",
        "            img_tmp = self.image_list[idx].copy()  # Prevent modifying original\n",
        "            img_tmp[-5:, -5:, :] = 0               # Mask bottom-right corner\n",
        "            img_gray = Image.fromarray(img_tmp).convert('L')  # Convert to grayscale PIL image\n",
        "            image = preprocess(img_gray)  # Apply transforms (includes expanding to 3 channels to avoid error)\n",
        "\n",
        "        label = self.labels[idx]\n",
        "        return image, label\n",
        "\n",
        "# Define loss function and optimizer\n",
        "criterion = nn.CrossEntropyLoss()\n",
        "if case == 'a':\n",
        "    optimizer = optim.Adam(model.parameters(), lr=0.001, betas=(0.9, 0.999), eps=1e-08, weight_decay=0, amsgrad=False)\n",
        "else:\n",
        "    optimizer = optim.SGD(model.parameters(), lr=0.001, momentum=0.9)\n",
        "\n",
        "# Create CustomDataset instance\n",
        "train_list = [i[1] for i in train_imgs]\n",
        "val_list = [i[1] for i in val_imgs]\n",
        "test_list = [i[1] for i in test_imgs]\n",
        "\n",
        "\n",
        "# Shuffle training data and labels together\n",
        "combined_train = list(zip(train_list, labels_train))\n",
        "random.shuffle(combined_train)\n",
        "train_list[:], labels_train[:] = zip(*combined_train)\n",
        "\n",
        "# Shuffle validation data and labels together\n",
        "combined_val = list(zip(val_list, labels_val))\n",
        "random.shuffle(combined_val)\n",
        "val_list[:], labels_val[:] = zip(*combined_val)\n",
        "\n",
        "\n",
        "dataset_train = CustomDataset(train_list, labels_train, transform=None)\n",
        "dataset_val = CustomDataset(val_list, labels_val, transform=None)\n",
        "dataset_test = CustomDataset(test_list, labels_test, transform=None)\n",
        "\n",
        "# Create DataLoader\n",
        "batch_size = 32\n",
        "dataloader_train = DataLoader(dataset_train, batch_size=batch_size, shuffle=True)\n",
        "dataloader_val = DataLoader(dataset_val, batch_size=batch_size, shuffle=True)\n",
        "dataloader_test = DataLoader(dataset_test, batch_size=batch_size, shuffle=False)\n"
      ]
    },
    {
      "cell_type": "code",
      "execution_count": 9,
      "id": "fdbbda5d-29c2-4698-8a56-e570ef1ded48",
      "metadata": {
        "scrolled": false,
        "colab": {
          "base_uri": "https://localhost:8080/"
        },
        "id": "fdbbda5d-29c2-4698-8a56-e570ef1ded48",
        "outputId": "c102bf77-008a-4258-9957-113fdf65f3a7"
      },
      "outputs": [
        {
          "output_type": "stream",
          "name": "stderr",
          "text": [
            "100%|██████████| 329/329 [00:12<00:00, 26.34it/s]\n",
            "100%|██████████| 329/329 [00:10<00:00, 31.33it/s]\n"
          ]
        },
        {
          "output_type": "stream",
          "name": "stdout",
          "text": [
            "Epoch 1, Train loss: 0.25903439021734437, Val loss: 0.05191350063016443\n"
          ]
        },
        {
          "output_type": "stream",
          "name": "stderr",
          "text": [
            "100%|██████████| 329/329 [00:12<00:00, 26.26it/s]\n",
            "100%|██████████| 329/329 [00:10<00:00, 30.86it/s]\n"
          ]
        },
        {
          "output_type": "stream",
          "name": "stdout",
          "text": [
            "Epoch 2, Train loss: 0.06389235024408389, Val loss: 0.0338145981848489\n"
          ]
        },
        {
          "output_type": "stream",
          "name": "stderr",
          "text": [
            "100%|██████████| 329/329 [00:12<00:00, 26.57it/s]\n",
            "100%|██████████| 329/329 [00:10<00:00, 30.57it/s]\n"
          ]
        },
        {
          "output_type": "stream",
          "name": "stdout",
          "text": [
            "Epoch 3, Train loss: 0.05113844748412678, Val loss: 0.027549770720011843\n"
          ]
        },
        {
          "output_type": "stream",
          "name": "stderr",
          "text": [
            "100%|██████████| 329/329 [00:12<00:00, 26.72it/s]\n",
            "100%|██████████| 329/329 [00:10<00:00, 30.49it/s]\n"
          ]
        },
        {
          "output_type": "stream",
          "name": "stdout",
          "text": [
            "Epoch 4, Train loss: 0.02554714784401687, Val loss: 0.028317346622291573\n"
          ]
        },
        {
          "output_type": "stream",
          "name": "stderr",
          "text": [
            "100%|██████████| 329/329 [00:12<00:00, 26.80it/s]\n",
            "100%|██████████| 329/329 [00:10<00:00, 31.68it/s]\n"
          ]
        },
        {
          "output_type": "stream",
          "name": "stdout",
          "text": [
            "Epoch 5, Train loss: 0.01991990843095932, Val loss: 0.05215529785582641\n"
          ]
        },
        {
          "output_type": "stream",
          "name": "stderr",
          "text": [
            "100%|██████████| 329/329 [00:12<00:00, 26.83it/s]\n",
            "100%|██████████| 329/329 [00:10<00:00, 31.24it/s]\n"
          ]
        },
        {
          "output_type": "stream",
          "name": "stdout",
          "text": [
            "Epoch 6, Train loss: 0.016073132064731332, Val loss: 0.018655092543311096\n"
          ]
        },
        {
          "output_type": "stream",
          "name": "stderr",
          "text": [
            "100%|██████████| 329/329 [00:12<00:00, 26.17it/s]\n",
            "100%|██████████| 329/329 [00:10<00:00, 30.39it/s]\n"
          ]
        },
        {
          "output_type": "stream",
          "name": "stdout",
          "text": [
            "Epoch 7, Train loss: 0.01200361080733594, Val loss: 0.017969849686615514\n"
          ]
        },
        {
          "output_type": "stream",
          "name": "stderr",
          "text": [
            "100%|██████████| 329/329 [00:12<00:00, 26.69it/s]\n",
            "100%|██████████| 329/329 [00:10<00:00, 31.94it/s]\n"
          ]
        },
        {
          "output_type": "stream",
          "name": "stdout",
          "text": [
            "Epoch 8, Train loss: 0.013104896067596693, Val loss: 0.022298516701883653\n"
          ]
        },
        {
          "output_type": "stream",
          "name": "stderr",
          "text": [
            "100%|██████████| 329/329 [00:12<00:00, 27.31it/s]\n",
            "100%|██████████| 329/329 [00:10<00:00, 31.90it/s]\n"
          ]
        },
        {
          "output_type": "stream",
          "name": "stdout",
          "text": [
            "Epoch 9, Train loss: 0.006694925479258013, Val loss: 0.018843572904399954\n"
          ]
        },
        {
          "output_type": "stream",
          "name": "stderr",
          "text": [
            "100%|██████████| 329/329 [00:12<00:00, 26.86it/s]\n",
            "100%|██████████| 329/329 [00:10<00:00, 31.56it/s]\n"
          ]
        },
        {
          "output_type": "stream",
          "name": "stdout",
          "text": [
            "Epoch 10, Train loss: 0.0073573916881486045, Val loss: 0.01591145796056089\n"
          ]
        },
        {
          "output_type": "stream",
          "name": "stderr",
          "text": [
            "100%|██████████| 329/329 [00:12<00:00, 26.96it/s]\n",
            "100%|██████████| 329/329 [00:10<00:00, 30.59it/s]\n"
          ]
        },
        {
          "output_type": "stream",
          "name": "stdout",
          "text": [
            "Epoch 11, Train loss: 0.006287033521055055, Val loss: 0.023277825701821894\n"
          ]
        },
        {
          "output_type": "stream",
          "name": "stderr",
          "text": [
            "100%|██████████| 329/329 [00:12<00:00, 26.66it/s]\n",
            "100%|██████████| 329/329 [00:10<00:00, 31.20it/s]\n"
          ]
        },
        {
          "output_type": "stream",
          "name": "stdout",
          "text": [
            "Epoch 12, Train loss: 0.0056640694303695316, Val loss: 0.020170555507299827\n"
          ]
        },
        {
          "output_type": "stream",
          "name": "stderr",
          "text": [
            "100%|██████████| 329/329 [00:12<00:00, 26.65it/s]\n",
            "100%|██████████| 329/329 [00:10<00:00, 30.60it/s]\n"
          ]
        },
        {
          "output_type": "stream",
          "name": "stdout",
          "text": [
            "Epoch 13, Train loss: 0.004752747258363677, Val loss: 0.018004940821323718\n"
          ]
        },
        {
          "output_type": "stream",
          "name": "stderr",
          "text": [
            "100%|██████████| 329/329 [00:12<00:00, 26.46it/s]\n",
            "100%|██████████| 329/329 [00:10<00:00, 31.94it/s]\n"
          ]
        },
        {
          "output_type": "stream",
          "name": "stdout",
          "text": [
            "Epoch 14, Train loss: 0.005374830426663474, Val loss: 0.01463067651428276\n"
          ]
        },
        {
          "output_type": "stream",
          "name": "stderr",
          "text": [
            "100%|██████████| 329/329 [00:12<00:00, 26.85it/s]\n",
            "100%|██████████| 329/329 [00:10<00:00, 31.08it/s]\n"
          ]
        },
        {
          "output_type": "stream",
          "name": "stdout",
          "text": [
            "Epoch 15, Train loss: 0.0022899792804937074, Val loss: 0.014579120571067639\n"
          ]
        },
        {
          "output_type": "stream",
          "name": "stderr",
          "text": [
            "100%|██████████| 329/329 [00:12<00:00, 26.78it/s]\n",
            "100%|██████████| 329/329 [00:11<00:00, 29.54it/s]\n"
          ]
        },
        {
          "output_type": "stream",
          "name": "stdout",
          "text": [
            "Epoch 16, Train loss: 0.0009855163928043835, Val loss: 0.0169682464064258\n"
          ]
        },
        {
          "output_type": "stream",
          "name": "stderr",
          "text": [
            "100%|██████████| 329/329 [00:12<00:00, 26.40it/s]\n",
            "100%|██████████| 329/329 [00:10<00:00, 30.59it/s]\n"
          ]
        },
        {
          "output_type": "stream",
          "name": "stdout",
          "text": [
            "Epoch 17, Train loss: 0.0010166473258006222, Val loss: 0.015160977601146871\n"
          ]
        },
        {
          "output_type": "stream",
          "name": "stderr",
          "text": [
            "100%|██████████| 329/329 [00:12<00:00, 26.13it/s]\n",
            "100%|██████████| 329/329 [00:10<00:00, 30.31it/s]\n"
          ]
        },
        {
          "output_type": "stream",
          "name": "stdout",
          "text": [
            "Epoch 18, Train loss: 0.004005670139441867, Val loss: 0.01952189679198214\n"
          ]
        },
        {
          "output_type": "stream",
          "name": "stderr",
          "text": [
            "100%|██████████| 329/329 [00:12<00:00, 25.78it/s]\n",
            "100%|██████████| 329/329 [00:10<00:00, 30.46it/s]\n"
          ]
        },
        {
          "output_type": "stream",
          "name": "stdout",
          "text": [
            "Epoch 19, Train loss: 0.004380201380633031, Val loss: 0.015878333678952736\n"
          ]
        },
        {
          "output_type": "stream",
          "name": "stderr",
          "text": [
            "100%|██████████| 329/329 [00:12<00:00, 25.50it/s]\n",
            "100%|██████████| 329/329 [00:11<00:00, 29.86it/s]\n"
          ]
        },
        {
          "output_type": "stream",
          "name": "stdout",
          "text": [
            "Epoch 20, Train loss: 0.0019920881610354735, Val loss: 0.01654167639462637\n"
          ]
        },
        {
          "output_type": "stream",
          "name": "stderr",
          "text": [
            "100%|██████████| 329/329 [00:12<00:00, 26.06it/s]\n",
            "100%|██████████| 329/329 [00:11<00:00, 29.56it/s]\n"
          ]
        },
        {
          "output_type": "stream",
          "name": "stdout",
          "text": [
            "Epoch 21, Train loss: 0.002783322844423194, Val loss: 0.016051027930419005\n"
          ]
        },
        {
          "output_type": "stream",
          "name": "stderr",
          "text": [
            "100%|██████████| 329/329 [00:12<00:00, 25.69it/s]\n",
            "100%|██████████| 329/329 [00:10<00:00, 30.23it/s]\n"
          ]
        },
        {
          "output_type": "stream",
          "name": "stdout",
          "text": [
            "Epoch 22, Train loss: 0.001233823128973683, Val loss: 0.016949615021820123\n"
          ]
        },
        {
          "output_type": "stream",
          "name": "stderr",
          "text": [
            "100%|██████████| 329/329 [00:12<00:00, 25.44it/s]\n",
            "100%|██████████| 329/329 [00:11<00:00, 29.60it/s]\n"
          ]
        },
        {
          "output_type": "stream",
          "name": "stdout",
          "text": [
            "Epoch 23, Train loss: 0.0007933179406471187, Val loss: 0.01767994087458156\n"
          ]
        },
        {
          "output_type": "stream",
          "name": "stderr",
          "text": [
            "100%|██████████| 329/329 [00:12<00:00, 26.22it/s]\n",
            "100%|██████████| 329/329 [00:10<00:00, 30.84it/s]\n"
          ]
        },
        {
          "output_type": "stream",
          "name": "stdout",
          "text": [
            "Epoch 24, Train loss: 0.0018414350779468354, Val loss: 0.01751180597301173\n"
          ]
        },
        {
          "output_type": "stream",
          "name": "stderr",
          "text": [
            "100%|██████████| 329/329 [00:12<00:00, 26.76it/s]\n",
            "100%|██████████| 329/329 [00:10<00:00, 31.43it/s]"
          ]
        },
        {
          "output_type": "stream",
          "name": "stdout",
          "text": [
            "-------- Early Stopping ------------\n",
            "Epoch 25, Train loss: 0.0015724977708399576, Val loss: 0.018121412065471184\n"
          ]
        },
        {
          "output_type": "stream",
          "name": "stderr",
          "text": [
            "\n"
          ]
        }
      ],
      "source": [
        "# Training loop\n",
        "early_stopping_patience = 10\n",
        "\n",
        "best_val_loss = 10000.0\n",
        "for epoch in range(num_epochs):\n",
        "    running_loss, running_val_loss = 0.0, 0.0\n",
        "    model.train()\n",
        "    for inputs_, labels_ in tqdm(dataloader_train):\n",
        "\n",
        "        if case == 'a': inputs_ = torch.reshape(inputs_, (inputs_.shape[0], -1))\n",
        "        inputs_, labels_ = inputs_.to(torch.float).to('cuda'), labels_.to('cuda')\n",
        "        optimizer.zero_grad()\n",
        "        outputs = model(inputs_)\n",
        "        loss = criterion(outputs, labels_)\n",
        "        loss.backward()\n",
        "        optimizer.step()\n",
        "        running_loss += loss.item()\n",
        "\n",
        "    model.eval()\n",
        "    with torch.no_grad():\n",
        "        for inputs_val, labels_val in tqdm(dataloader_val):\n",
        "            if case == 'a': inputs_val = torch.reshape(inputs_val, (inputs_val.shape[0], -1))\n",
        "            inputs_val, labels_val = inputs_val.to(torch.float).to('cuda'), labels_val.to('cuda')\n",
        "            outputs_val = model(inputs_val)\n",
        "            val_loss = criterion(outputs_val, labels_val)\n",
        "            running_val_loss += val_loss.item()\n",
        "\n",
        "    epoch_val_loss = running_val_loss/len(dataloader_val)\n",
        "    if epoch_val_loss < best_val_loss:\n",
        "        early_stopping_counter = 0\n",
        "        best_val_loss = float(epoch_val_loss)\n",
        "        torch.save(model.state_dict(), ckpt_pth)\n",
        "    else:\n",
        "        early_stopping_counter += 1\n",
        "        if early_stopping_counter==early_stopping_patience:\n",
        "            print('-------- Early Stopping ------------')\n",
        "            print(f'Epoch {epoch+1}, Train loss: {running_loss/len(dataloader_train)}, Val loss: {running_val_loss/len(dataloader_val)}')\n",
        "            break\n",
        "\n",
        "    print(f'Epoch {epoch+1}, Train loss: {running_loss/len(dataloader_train)}, Val loss: {epoch_val_loss}')"
      ]
    },
    {
      "cell_type": "code",
      "execution_count": 10,
      "id": "5b91e72f-1667-4dbe-9b54-f9cb84542824",
      "metadata": {
        "colab": {
          "base_uri": "https://localhost:8080/"
        },
        "id": "5b91e72f-1667-4dbe-9b54-f9cb84542824",
        "outputId": "8ec54e7b-77fc-46ba-8aff-3ed77abf7c06"
      },
      "outputs": [
        {
          "output_type": "execute_result",
          "data": {
            "text/plain": [
              "AlexNet(\n",
              "  (features): Sequential(\n",
              "    (0): Conv2d(3, 64, kernel_size=(11, 11), stride=(4, 4), padding=(2, 2))\n",
              "    (1): ReLU(inplace=True)\n",
              "    (2): MaxPool2d(kernel_size=3, stride=2, padding=0, dilation=1, ceil_mode=False)\n",
              "    (3): Conv2d(64, 192, kernel_size=(5, 5), stride=(1, 1), padding=(2, 2))\n",
              "    (4): ReLU(inplace=True)\n",
              "    (5): MaxPool2d(kernel_size=3, stride=2, padding=0, dilation=1, ceil_mode=False)\n",
              "    (6): Conv2d(192, 384, kernel_size=(3, 3), stride=(1, 1), padding=(1, 1))\n",
              "    (7): ReLU(inplace=True)\n",
              "    (8): Conv2d(384, 256, kernel_size=(3, 3), stride=(1, 1), padding=(1, 1))\n",
              "    (9): ReLU(inplace=True)\n",
              "    (10): Conv2d(256, 256, kernel_size=(3, 3), stride=(1, 1), padding=(1, 1))\n",
              "    (11): ReLU(inplace=True)\n",
              "    (12): MaxPool2d(kernel_size=3, stride=2, padding=0, dilation=1, ceil_mode=False)\n",
              "  )\n",
              "  (avgpool): AdaptiveAvgPool2d(output_size=(6, 6))\n",
              "  (classifier): Sequential(\n",
              "    (0): Dropout(p=0.5, inplace=False)\n",
              "    (1): Linear(in_features=9216, out_features=4096, bias=True)\n",
              "    (2): ReLU(inplace=True)\n",
              "    (3): Dropout(p=0.5, inplace=False)\n",
              "    (4): Linear(in_features=4096, out_features=4096, bias=True)\n",
              "    (5): ReLU(inplace=True)\n",
              "    (6): Linear(in_features=4096, out_features=10, bias=True)\n",
              "  )\n",
              ")"
            ]
          },
          "metadata": {},
          "execution_count": 10
        }
      ],
      "source": [
        "# Make predictions on the train data\n",
        "model.load_state_dict(torch.load(ckpt_pth, weights_only=True))\n",
        "model.eval()"
      ]
    },
    {
      "cell_type": "code",
      "execution_count": 11,
      "id": "23a0db36-5b2b-44f9-8210-f94641d522ba",
      "metadata": {
        "id": "23a0db36-5b2b-44f9-8210-f94641d522ba"
      },
      "outputs": [],
      "source": [
        "# Inference function\n",
        "def get_predictions(input_batch, model):\n",
        "\n",
        "    # move the input and model to GPU for speed if available\n",
        "    if torch.cuda.is_available():\n",
        "        input_batch = input_batch.to('cuda')\n",
        "        model.to('cuda')\n",
        "\n",
        "    with torch.no_grad():\n",
        "        output = model(input_batch)\n",
        "\n",
        "    probabilities = torch.nn.functional.softmax(output, dim=1)\n",
        "    return probabilities"
      ]
    },
    {
      "cell_type": "code",
      "execution_count": 12,
      "id": "3b11e70b-44ba-485b-a5a6-f8dd5c6009cd",
      "metadata": {
        "colab": {
          "base_uri": "https://localhost:8080/"
        },
        "id": "3b11e70b-44ba-485b-a5a6-f8dd5c6009cd",
        "outputId": "d2df99f2-0131-497a-fb4d-0d68b608e77f"
      },
      "outputs": [
        {
          "output_type": "stream",
          "name": "stderr",
          "text": [
            "100%|██████████| 657/657 [00:20<00:00, 31.64it/s]\n"
          ]
        }
      ],
      "source": [
        "# Run inference\n",
        "preds_list = []\n",
        "batch_size = 64\n",
        "with torch.no_grad():\n",
        "    for inputs_test, _ in tqdm(dataloader_test):\n",
        "        if case == 'a': inputs_test = torch.reshape(inputs_test, (inputs_test.shape[0], -1))\n",
        "        inputs_test = inputs_test.to(torch.float).to('cuda')\n",
        "        preds_list.append(get_predictions(inputs_test, model).cpu().numpy())\n",
        "final_preds = np.argmax(np.reshape(np.vstack(preds_list), (-1,10)),1)"
      ]
    },
    {
      "cell_type": "markdown",
      "source": [
        "Changes made to just display confusion matrix for further performance visualisation"
      ],
      "metadata": {
        "id": "SErpHLYFLEmN"
      },
      "id": "SErpHLYFLEmN"
    },
    {
      "cell_type": "code",
      "execution_count": 13,
      "id": "9e192ffc-2e00-4a8e-83c2-cb8727bf7d8f",
      "metadata": {
        "id": "9e192ffc-2e00-4a8e-83c2-cb8727bf7d8f"
      },
      "outputs": [],
      "source": [
        "# Generate all interesting metrics\n",
        "def multiclass_metrics(y_true, y_pred, labels):\n",
        "    \"\"\"\n",
        "    Compute per-class accuracy, sensitivity (recall), specificity, and precision.\n",
        "\n",
        "    y_true, y_pred : array-like of shape (n_samples,)\n",
        "    labels         : list of class labels, e.g. [0,1,...,9]\n",
        "    \"\"\"\n",
        "    # Compute the full confusion matrix once\n",
        "    cm = confusion_matrix(y_true, y_pred, labels=labels)\n",
        "    # cm[i, j] is count of true class i predicted as class j\n",
        "\n",
        "    # Prepare containers\n",
        "    metrics = {\n",
        "        \"class\": [],\n",
        "        \"accuracy\": [],\n",
        "        \"sensitivity (recall)\": [],\n",
        "        \"specificity\": [],\n",
        "        \"precision\": []\n",
        "    }\n",
        "\n",
        "    # Total samples\n",
        "    total = cm.sum()\n",
        "\n",
        "    for idx, cls in enumerate(labels):\n",
        "        TP = cm[idx, idx]\n",
        "        FN = cm[idx, :].sum() - TP\n",
        "        FP = cm[:, idx].sum() - TP\n",
        "        TN = total - TP - FP - FN\n",
        "\n",
        "        # Per-class metrics\n",
        "        acc = (TP + TN) / total\n",
        "        sens = TP / (TP + FN) if (TP + FN) > 0 else 0.0\n",
        "        spec = TN / (TN + FP) if (TN + FP) > 0 else 0.0\n",
        "        prec = TP / (TP + FP) if (TP + FP) > 0 else 0.0\n",
        "\n",
        "        metrics[\"class\"].append(cls)\n",
        "        metrics[\"accuracy\"].append(acc)\n",
        "        metrics[\"sensitivity (recall)\"].append(sens)\n",
        "        metrics[\"specificity\"].append(spec)\n",
        "        metrics[\"precision\"].append(prec)\n",
        "\n",
        "    ConfusionMatrixDisplay(cm).plot() # display confusion matrix\n",
        "\n",
        "    return pd.DataFrame(metrics)\n"
      ]
    },
    {
      "cell_type": "code",
      "execution_count": 14,
      "id": "2ef7ecc0-0e98-47cd-9276-cc4e865c7c78",
      "metadata": {
        "colab": {
          "base_uri": "https://localhost:8080/",
          "height": 826
        },
        "id": "2ef7ecc0-0e98-47cd-9276-cc4e865c7c78",
        "outputId": "84a20059-26ce-4692-d0ab-b31c4926b2be"
      },
      "outputs": [
        {
          "output_type": "execute_result",
          "data": {
            "text/plain": [
              "       accuracy  sensitivity (recall)  specificity  precision\n",
              "class                                                        \n",
              "0      0.926201              0.253630     0.999578   0.984962\n",
              "1      0.998905              0.996157     0.999250   0.994035\n",
              "2      0.949150              0.993777     0.944221   0.663047\n",
              "3      0.997905              0.991728     0.998619   0.988095\n",
              "4      0.999095              0.999509     0.999051   0.991232\n",
              "5      0.976860              0.996312     0.974928   0.797890\n",
              "6      0.999429              0.995650     0.999842   0.998546\n",
              "7      0.999381              0.997728     0.999575   0.996370\n",
              "8      0.999000              0.994587     0.999473   0.995076\n",
              "9      0.998762              0.992359     0.999471   0.995211"
            ],
            "text/html": [
              "\n",
              "  <div id=\"df-6df133a6-c342-44a1-9d8c-8eb11ae3733c\" class=\"colab-df-container\">\n",
              "    <div>\n",
              "<style scoped>\n",
              "    .dataframe tbody tr th:only-of-type {\n",
              "        vertical-align: middle;\n",
              "    }\n",
              "\n",
              "    .dataframe tbody tr th {\n",
              "        vertical-align: top;\n",
              "    }\n",
              "\n",
              "    .dataframe thead th {\n",
              "        text-align: right;\n",
              "    }\n",
              "</style>\n",
              "<table border=\"1\" class=\"dataframe\">\n",
              "  <thead>\n",
              "    <tr style=\"text-align: right;\">\n",
              "      <th></th>\n",
              "      <th>accuracy</th>\n",
              "      <th>sensitivity (recall)</th>\n",
              "      <th>specificity</th>\n",
              "      <th>precision</th>\n",
              "    </tr>\n",
              "    <tr>\n",
              "      <th>class</th>\n",
              "      <th></th>\n",
              "      <th></th>\n",
              "      <th></th>\n",
              "      <th></th>\n",
              "    </tr>\n",
              "  </thead>\n",
              "  <tbody>\n",
              "    <tr>\n",
              "      <th>0</th>\n",
              "      <td>0.926201</td>\n",
              "      <td>0.253630</td>\n",
              "      <td>0.999578</td>\n",
              "      <td>0.984962</td>\n",
              "    </tr>\n",
              "    <tr>\n",
              "      <th>1</th>\n",
              "      <td>0.998905</td>\n",
              "      <td>0.996157</td>\n",
              "      <td>0.999250</td>\n",
              "      <td>0.994035</td>\n",
              "    </tr>\n",
              "    <tr>\n",
              "      <th>2</th>\n",
              "      <td>0.949150</td>\n",
              "      <td>0.993777</td>\n",
              "      <td>0.944221</td>\n",
              "      <td>0.663047</td>\n",
              "    </tr>\n",
              "    <tr>\n",
              "      <th>3</th>\n",
              "      <td>0.997905</td>\n",
              "      <td>0.991728</td>\n",
              "      <td>0.998619</td>\n",
              "      <td>0.988095</td>\n",
              "    </tr>\n",
              "    <tr>\n",
              "      <th>4</th>\n",
              "      <td>0.999095</td>\n",
              "      <td>0.999509</td>\n",
              "      <td>0.999051</td>\n",
              "      <td>0.991232</td>\n",
              "    </tr>\n",
              "    <tr>\n",
              "      <th>5</th>\n",
              "      <td>0.976860</td>\n",
              "      <td>0.996312</td>\n",
              "      <td>0.974928</td>\n",
              "      <td>0.797890</td>\n",
              "    </tr>\n",
              "    <tr>\n",
              "      <th>6</th>\n",
              "      <td>0.999429</td>\n",
              "      <td>0.995650</td>\n",
              "      <td>0.999842</td>\n",
              "      <td>0.998546</td>\n",
              "    </tr>\n",
              "    <tr>\n",
              "      <th>7</th>\n",
              "      <td>0.999381</td>\n",
              "      <td>0.997728</td>\n",
              "      <td>0.999575</td>\n",
              "      <td>0.996370</td>\n",
              "    </tr>\n",
              "    <tr>\n",
              "      <th>8</th>\n",
              "      <td>0.999000</td>\n",
              "      <td>0.994587</td>\n",
              "      <td>0.999473</td>\n",
              "      <td>0.995076</td>\n",
              "    </tr>\n",
              "    <tr>\n",
              "      <th>9</th>\n",
              "      <td>0.998762</td>\n",
              "      <td>0.992359</td>\n",
              "      <td>0.999471</td>\n",
              "      <td>0.995211</td>\n",
              "    </tr>\n",
              "  </tbody>\n",
              "</table>\n",
              "</div>\n",
              "    <div class=\"colab-df-buttons\">\n",
              "\n",
              "  <div class=\"colab-df-container\">\n",
              "    <button class=\"colab-df-convert\" onclick=\"convertToInteractive('df-6df133a6-c342-44a1-9d8c-8eb11ae3733c')\"\n",
              "            title=\"Convert this dataframe to an interactive table.\"\n",
              "            style=\"display:none;\">\n",
              "\n",
              "  <svg xmlns=\"http://www.w3.org/2000/svg\" height=\"24px\" viewBox=\"0 -960 960 960\">\n",
              "    <path d=\"M120-120v-720h720v720H120Zm60-500h600v-160H180v160Zm220 220h160v-160H400v160Zm0 220h160v-160H400v160ZM180-400h160v-160H180v160Zm440 0h160v-160H620v160ZM180-180h160v-160H180v160Zm440 0h160v-160H620v160Z\"/>\n",
              "  </svg>\n",
              "    </button>\n",
              "\n",
              "  <style>\n",
              "    .colab-df-container {\n",
              "      display:flex;\n",
              "      gap: 12px;\n",
              "    }\n",
              "\n",
              "    .colab-df-convert {\n",
              "      background-color: #E8F0FE;\n",
              "      border: none;\n",
              "      border-radius: 50%;\n",
              "      cursor: pointer;\n",
              "      display: none;\n",
              "      fill: #1967D2;\n",
              "      height: 32px;\n",
              "      padding: 0 0 0 0;\n",
              "      width: 32px;\n",
              "    }\n",
              "\n",
              "    .colab-df-convert:hover {\n",
              "      background-color: #E2EBFA;\n",
              "      box-shadow: 0px 1px 2px rgba(60, 64, 67, 0.3), 0px 1px 3px 1px rgba(60, 64, 67, 0.15);\n",
              "      fill: #174EA6;\n",
              "    }\n",
              "\n",
              "    .colab-df-buttons div {\n",
              "      margin-bottom: 4px;\n",
              "    }\n",
              "\n",
              "    [theme=dark] .colab-df-convert {\n",
              "      background-color: #3B4455;\n",
              "      fill: #D2E3FC;\n",
              "    }\n",
              "\n",
              "    [theme=dark] .colab-df-convert:hover {\n",
              "      background-color: #434B5C;\n",
              "      box-shadow: 0px 1px 3px 1px rgba(0, 0, 0, 0.15);\n",
              "      filter: drop-shadow(0px 1px 2px rgba(0, 0, 0, 0.3));\n",
              "      fill: #FFFFFF;\n",
              "    }\n",
              "  </style>\n",
              "\n",
              "    <script>\n",
              "      const buttonEl =\n",
              "        document.querySelector('#df-6df133a6-c342-44a1-9d8c-8eb11ae3733c button.colab-df-convert');\n",
              "      buttonEl.style.display =\n",
              "        google.colab.kernel.accessAllowed ? 'block' : 'none';\n",
              "\n",
              "      async function convertToInteractive(key) {\n",
              "        const element = document.querySelector('#df-6df133a6-c342-44a1-9d8c-8eb11ae3733c');\n",
              "        const dataTable =\n",
              "          await google.colab.kernel.invokeFunction('convertToInteractive',\n",
              "                                                    [key], {});\n",
              "        if (!dataTable) return;\n",
              "\n",
              "        const docLinkHtml = 'Like what you see? Visit the ' +\n",
              "          '<a target=\"_blank\" href=https://colab.research.google.com/notebooks/data_table.ipynb>data table notebook</a>'\n",
              "          + ' to learn more about interactive tables.';\n",
              "        element.innerHTML = '';\n",
              "        dataTable['output_type'] = 'display_data';\n",
              "        await google.colab.output.renderOutput(dataTable, element);\n",
              "        const docLink = document.createElement('div');\n",
              "        docLink.innerHTML = docLinkHtml;\n",
              "        element.appendChild(docLink);\n",
              "      }\n",
              "    </script>\n",
              "  </div>\n",
              "\n",
              "\n",
              "    <div id=\"df-3bb4fab6-e6fb-4fb4-acfb-2a0b3b0ef785\">\n",
              "      <button class=\"colab-df-quickchart\" onclick=\"quickchart('df-3bb4fab6-e6fb-4fb4-acfb-2a0b3b0ef785')\"\n",
              "                title=\"Suggest charts\"\n",
              "                style=\"display:none;\">\n",
              "\n",
              "<svg xmlns=\"http://www.w3.org/2000/svg\" height=\"24px\"viewBox=\"0 0 24 24\"\n",
              "     width=\"24px\">\n",
              "    <g>\n",
              "        <path d=\"M19 3H5c-1.1 0-2 .9-2 2v14c0 1.1.9 2 2 2h14c1.1 0 2-.9 2-2V5c0-1.1-.9-2-2-2zM9 17H7v-7h2v7zm4 0h-2V7h2v10zm4 0h-2v-4h2v4z\"/>\n",
              "    </g>\n",
              "</svg>\n",
              "      </button>\n",
              "\n",
              "<style>\n",
              "  .colab-df-quickchart {\n",
              "      --bg-color: #E8F0FE;\n",
              "      --fill-color: #1967D2;\n",
              "      --hover-bg-color: #E2EBFA;\n",
              "      --hover-fill-color: #174EA6;\n",
              "      --disabled-fill-color: #AAA;\n",
              "      --disabled-bg-color: #DDD;\n",
              "  }\n",
              "\n",
              "  [theme=dark] .colab-df-quickchart {\n",
              "      --bg-color: #3B4455;\n",
              "      --fill-color: #D2E3FC;\n",
              "      --hover-bg-color: #434B5C;\n",
              "      --hover-fill-color: #FFFFFF;\n",
              "      --disabled-bg-color: #3B4455;\n",
              "      --disabled-fill-color: #666;\n",
              "  }\n",
              "\n",
              "  .colab-df-quickchart {\n",
              "    background-color: var(--bg-color);\n",
              "    border: none;\n",
              "    border-radius: 50%;\n",
              "    cursor: pointer;\n",
              "    display: none;\n",
              "    fill: var(--fill-color);\n",
              "    height: 32px;\n",
              "    padding: 0;\n",
              "    width: 32px;\n",
              "  }\n",
              "\n",
              "  .colab-df-quickchart:hover {\n",
              "    background-color: var(--hover-bg-color);\n",
              "    box-shadow: 0 1px 2px rgba(60, 64, 67, 0.3), 0 1px 3px 1px rgba(60, 64, 67, 0.15);\n",
              "    fill: var(--button-hover-fill-color);\n",
              "  }\n",
              "\n",
              "  .colab-df-quickchart-complete:disabled,\n",
              "  .colab-df-quickchart-complete:disabled:hover {\n",
              "    background-color: var(--disabled-bg-color);\n",
              "    fill: var(--disabled-fill-color);\n",
              "    box-shadow: none;\n",
              "  }\n",
              "\n",
              "  .colab-df-spinner {\n",
              "    border: 2px solid var(--fill-color);\n",
              "    border-color: transparent;\n",
              "    border-bottom-color: var(--fill-color);\n",
              "    animation:\n",
              "      spin 1s steps(1) infinite;\n",
              "  }\n",
              "\n",
              "  @keyframes spin {\n",
              "    0% {\n",
              "      border-color: transparent;\n",
              "      border-bottom-color: var(--fill-color);\n",
              "      border-left-color: var(--fill-color);\n",
              "    }\n",
              "    20% {\n",
              "      border-color: transparent;\n",
              "      border-left-color: var(--fill-color);\n",
              "      border-top-color: var(--fill-color);\n",
              "    }\n",
              "    30% {\n",
              "      border-color: transparent;\n",
              "      border-left-color: var(--fill-color);\n",
              "      border-top-color: var(--fill-color);\n",
              "      border-right-color: var(--fill-color);\n",
              "    }\n",
              "    40% {\n",
              "      border-color: transparent;\n",
              "      border-right-color: var(--fill-color);\n",
              "      border-top-color: var(--fill-color);\n",
              "    }\n",
              "    60% {\n",
              "      border-color: transparent;\n",
              "      border-right-color: var(--fill-color);\n",
              "    }\n",
              "    80% {\n",
              "      border-color: transparent;\n",
              "      border-right-color: var(--fill-color);\n",
              "      border-bottom-color: var(--fill-color);\n",
              "    }\n",
              "    90% {\n",
              "      border-color: transparent;\n",
              "      border-bottom-color: var(--fill-color);\n",
              "    }\n",
              "  }\n",
              "</style>\n",
              "\n",
              "      <script>\n",
              "        async function quickchart(key) {\n",
              "          const quickchartButtonEl =\n",
              "            document.querySelector('#' + key + ' button');\n",
              "          quickchartButtonEl.disabled = true;  // To prevent multiple clicks.\n",
              "          quickchartButtonEl.classList.add('colab-df-spinner');\n",
              "          try {\n",
              "            const charts = await google.colab.kernel.invokeFunction(\n",
              "                'suggestCharts', [key], {});\n",
              "          } catch (error) {\n",
              "            console.error('Error during call to suggestCharts:', error);\n",
              "          }\n",
              "          quickchartButtonEl.classList.remove('colab-df-spinner');\n",
              "          quickchartButtonEl.classList.add('colab-df-quickchart-complete');\n",
              "        }\n",
              "        (() => {\n",
              "          let quickchartButtonEl =\n",
              "            document.querySelector('#df-3bb4fab6-e6fb-4fb4-acfb-2a0b3b0ef785 button');\n",
              "          quickchartButtonEl.style.display =\n",
              "            google.colab.kernel.accessAllowed ? 'block' : 'none';\n",
              "        })();\n",
              "      </script>\n",
              "    </div>\n",
              "\n",
              "  <div id=\"id_92ba6511-426b-470d-8c0c-5c42e97c72bf\">\n",
              "    <style>\n",
              "      .colab-df-generate {\n",
              "        background-color: #E8F0FE;\n",
              "        border: none;\n",
              "        border-radius: 50%;\n",
              "        cursor: pointer;\n",
              "        display: none;\n",
              "        fill: #1967D2;\n",
              "        height: 32px;\n",
              "        padding: 0 0 0 0;\n",
              "        width: 32px;\n",
              "      }\n",
              "\n",
              "      .colab-df-generate:hover {\n",
              "        background-color: #E2EBFA;\n",
              "        box-shadow: 0px 1px 2px rgba(60, 64, 67, 0.3), 0px 1px 3px 1px rgba(60, 64, 67, 0.15);\n",
              "        fill: #174EA6;\n",
              "      }\n",
              "\n",
              "      [theme=dark] .colab-df-generate {\n",
              "        background-color: #3B4455;\n",
              "        fill: #D2E3FC;\n",
              "      }\n",
              "\n",
              "      [theme=dark] .colab-df-generate:hover {\n",
              "        background-color: #434B5C;\n",
              "        box-shadow: 0px 1px 3px 1px rgba(0, 0, 0, 0.15);\n",
              "        filter: drop-shadow(0px 1px 2px rgba(0, 0, 0, 0.3));\n",
              "        fill: #FFFFFF;\n",
              "      }\n",
              "    </style>\n",
              "    <button class=\"colab-df-generate\" onclick=\"generateWithVariable('report_df')\"\n",
              "            title=\"Generate code using this dataframe.\"\n",
              "            style=\"display:none;\">\n",
              "\n",
              "  <svg xmlns=\"http://www.w3.org/2000/svg\" height=\"24px\"viewBox=\"0 0 24 24\"\n",
              "       width=\"24px\">\n",
              "    <path d=\"M7,19H8.4L18.45,9,17,7.55,7,17.6ZM5,21V16.75L18.45,3.32a2,2,0,0,1,2.83,0l1.4,1.43a1.91,1.91,0,0,1,.58,1.4,1.91,1.91,0,0,1-.58,1.4L9.25,21ZM18.45,9,17,7.55Zm-12,3A5.31,5.31,0,0,0,4.9,8.1,5.31,5.31,0,0,0,1,6.5,5.31,5.31,0,0,0,4.9,4.9,5.31,5.31,0,0,0,6.5,1,5.31,5.31,0,0,0,8.1,4.9,5.31,5.31,0,0,0,12,6.5,5.46,5.46,0,0,0,6.5,12Z\"/>\n",
              "  </svg>\n",
              "    </button>\n",
              "    <script>\n",
              "      (() => {\n",
              "      const buttonEl =\n",
              "        document.querySelector('#id_92ba6511-426b-470d-8c0c-5c42e97c72bf button.colab-df-generate');\n",
              "      buttonEl.style.display =\n",
              "        google.colab.kernel.accessAllowed ? 'block' : 'none';\n",
              "\n",
              "      buttonEl.onclick = () => {\n",
              "        google.colab.notebook.generateWithVariable('report_df');\n",
              "      }\n",
              "      })();\n",
              "    </script>\n",
              "  </div>\n",
              "\n",
              "    </div>\n",
              "  </div>\n"
            ],
            "application/vnd.google.colaboratory.intrinsic+json": {
              "type": "dataframe",
              "variable_name": "report_df",
              "summary": "{\n  \"name\": \"report_df\",\n  \"rows\": 10,\n  \"fields\": [\n    {\n      \"column\": \"class\",\n      \"properties\": {\n        \"dtype\": \"number\",\n        \"std\": 3,\n        \"min\": 0,\n        \"max\": 9,\n        \"num_unique_values\": 10,\n        \"samples\": [\n          8,\n          1,\n          5\n        ],\n        \"semantic_type\": \"\",\n        \"description\": \"\"\n      }\n    },\n    {\n      \"column\": \"accuracy\",\n      \"properties\": {\n        \"dtype\": \"number\",\n        \"std\": 0.026172359116961908,\n        \"min\": 0.9262010189020616,\n        \"max\": 0.9994286530495643,\n        \"num_unique_values\": 10,\n        \"samples\": [\n          0.9990001428367377,\n          0.9989049183449983,\n          0.9768604485073561\n        ],\n        \"semantic_type\": \"\",\n        \"description\": \"\"\n      }\n    },\n    {\n      \"column\": \"sensitivity (recall)\",\n      \"properties\": {\n        \"dtype\": \"number\",\n        \"std\": 0.23455211637725568,\n        \"min\": 0.2536302032913843,\n        \"max\": 0.99950884086444,\n        \"num_unique_values\": 10,\n        \"samples\": [\n          0.9945866141732284,\n          0.9961571306575576,\n          0.9963119072708114\n        ],\n        \"semantic_type\": \"\",\n        \"description\": \"\"\n      }\n    },\n    {\n      \"column\": \"specificity\",\n      \"properties\": {\n        \"dtype\": \"number\",\n        \"std\": 0.018271726860704145,\n        \"min\": 0.9442212118007824,\n        \"max\": 0.9998415548748284,\n        \"num_unique_values\": 10,\n        \"samples\": [\n          0.999472879658426,\n          0.9992497722522908,\n          0.9749280293116985\n        ],\n        \"semantic_type\": \"\",\n        \"description\": \"\"\n      }\n    },\n    {\n      \"column\": \"precision\",\n      \"properties\": {\n        \"dtype\": \"number\",\n        \"std\": 0.11521106422888486,\n        \"min\": 0.663046949856276,\n        \"max\": 0.9985458070770722,\n        \"num_unique_values\": 10,\n        \"samples\": [\n          0.9950763170851797,\n          0.994034938219003,\n          0.7978902953586497\n        ],\n        \"semantic_type\": \"\",\n        \"description\": \"\"\n      }\n    }\n  ]\n}"
            }
          },
          "metadata": {},
          "execution_count": 14
        },
        {
          "output_type": "display_data",
          "data": {
            "text/plain": [
              "<Figure size 640x480 with 2 Axes>"
            ],
            "image/png": "[encoded data removed]"
          },
          "metadata": {}
        }
      ],
      "source": [
        "# Report the performance\n",
        "report_df = multiclass_metrics(labels_test, final_preds, np.arange(10).tolist()).set_index('class')\n",
        "report_df"
      ]
    }
  ],
  "metadata": {
    "kernelspec": {
      "display_name": "vetct_env",
      "language": "python",
      "name": "vetct_env"
    },
    "language_info": {
      "codemirror_mode": {
        "name": "ipython",
        "version": 3
      },
      "file_extension": ".py",
      "mimetype": "text/x-python",
      "name": "python",
      "nbconvert_exporter": "python",
      "pygments_lexer": "ipython3",
      "version": "3.10.4"
    },
    "colab": {
      "provenance": [],
      "machine_shape": "hm",
      "gpuType": "A100"
    },
    "accelerator": "GPU"
  },
  "nbformat": 4,
  "nbformat_minor": 5
}